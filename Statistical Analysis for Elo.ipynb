{
 "cells": [
  {
   "cell_type": "code",
   "execution_count": 1,
   "metadata": {},
   "outputs": [
    {
     "name": "stderr",
     "output_type": "stream",
     "text": [
      "In C:\\Users\\Irtaza Hussain\\miniconda3\\envs\\dl\\lib\\site-packages\\matplotlib\\mpl-data\\stylelib\\_classic_test.mplstyle: \n",
      "The text.latex.preview rcparam was deprecated in Matplotlib 3.3 and will be removed two minor releases later.\n",
      "In C:\\Users\\Irtaza Hussain\\miniconda3\\envs\\dl\\lib\\site-packages\\matplotlib\\mpl-data\\stylelib\\_classic_test.mplstyle: \n",
      "The mathtext.fallback_to_cm rcparam was deprecated in Matplotlib 3.3 and will be removed two minor releases later.\n",
      "In C:\\Users\\Irtaza Hussain\\miniconda3\\envs\\dl\\lib\\site-packages\\matplotlib\\mpl-data\\stylelib\\_classic_test.mplstyle: Support for setting the 'mathtext.fallback_to_cm' rcParam is deprecated since 3.3 and will be removed two minor releases later; use 'mathtext.fallback : 'cm' instead.\n",
      "In C:\\Users\\Irtaza Hussain\\miniconda3\\envs\\dl\\lib\\site-packages\\matplotlib\\mpl-data\\stylelib\\_classic_test.mplstyle: \n",
      "The validate_bool_maybe_none function was deprecated in Matplotlib 3.3 and will be removed two minor releases later.\n",
      "In C:\\Users\\Irtaza Hussain\\miniconda3\\envs\\dl\\lib\\site-packages\\matplotlib\\mpl-data\\stylelib\\_classic_test.mplstyle: \n",
      "The savefig.jpeg_quality rcparam was deprecated in Matplotlib 3.3 and will be removed two minor releases later.\n",
      "In C:\\Users\\Irtaza Hussain\\miniconda3\\envs\\dl\\lib\\site-packages\\matplotlib\\mpl-data\\stylelib\\_classic_test.mplstyle: \n",
      "The keymap.all_axes rcparam was deprecated in Matplotlib 3.3 and will be removed two minor releases later.\n",
      "In C:\\Users\\Irtaza Hussain\\miniconda3\\envs\\dl\\lib\\site-packages\\matplotlib\\mpl-data\\stylelib\\_classic_test.mplstyle: \n",
      "The animation.avconv_path rcparam was deprecated in Matplotlib 3.3 and will be removed two minor releases later.\n",
      "In C:\\Users\\Irtaza Hussain\\miniconda3\\envs\\dl\\lib\\site-packages\\matplotlib\\mpl-data\\stylelib\\_classic_test.mplstyle: \n",
      "The animation.avconv_args rcparam was deprecated in Matplotlib 3.3 and will be removed two minor releases later.\n"
     ]
    }
   ],
   "source": [
    "from sklearn import model_selection, preprocessing, metrics\n",
    "from sklearn.metrics import mean_squared_error\n",
    "from sklearn.model_selection import train_test_split\n",
    "import matplotlib.pylab as pylab\n",
    "import matplotlib.pyplot as plt\n",
    "from pandas import get_dummies\n",
    "import lightgbm as lgb\n",
    "import matplotlib as mpl\n",
    "import xgboost as xgb\n",
    "import seaborn as sns\n",
    "import pandas as pd\n",
    "import numpy as np\n",
    "import matplotlib\n",
    "import warnings\n",
    "import sklearn\n",
    "import scipy\n",
    "import numpy\n",
    "import json\n",
    "import sys\n",
    "import csv\n",
    "import os"
   ]
  },
  {
   "cell_type": "code",
   "execution_count": 2,
   "metadata": {},
   "outputs": [],
   "source": [
    "sns.set(style =\"white\", context =\"notebook\", palette = \"deep\")\n",
    "warnings.filterwarnings(\"ignore\")\n",
    "warnings.simplefilter(action=\"ignore\", category=FutureWarning)\n",
    "sns.set_style(\"white\")\n",
    "pd.set_option(\"display.max_columns\",500)\n",
    "%matplotlib inline"
   ]
  },
  {
   "cell_type": "markdown",
   "metadata": {},
   "source": [
    "### EDA\n",
    "We willl be generating graphics that are both insightful and beautiful then we will review analytical and statistical operations:\n",
    "1. Data Collection\n",
    "2. Visualization\n",
    "3. Data Cleaning\n",
    "4. Data Preprocessing"
   ]
  },
  {
   "attachments": {
    "image.png": {
     "image/png": "[encoded data removed]"
    }
   },
   "cell_type": "markdown",
   "metadata": {},
   "source": [
    "![image.png](attachment:image.png)\n"
   ]
  },
  {
   "cell_type": "code",
   "execution_count": 3,
   "metadata": {},
   "outputs": [
    {
     "name": "stdout",
     "output_type": "stream",
     "text": [
      "['.ipynb_checkpoints', 'Data Dictionary.xlsx', 'Data_Dictionary.xlsx', 'historical_transactions.csv', 'merchants.csv', 'new_merchant_transactions.csv', 'sample_submission.csv', 'Statistical Analysis for Elo.ipynb', 'test.csv', 'train.csv']\n"
     ]
    }
   ],
   "source": [
    "import os \n",
    "print(os.listdir(\"C:/Users/Irtaza Hussain/Downloads/Data Analysis/Elo_data\"))"
   ]
  },
  {
   "cell_type": "code",
   "execution_count": 4,
   "metadata": {},
   "outputs": [],
   "source": [
    "main_train = pd.read_csv(\"C:/Users/Irtaza Hussain/Downloads/Data Analysis/Elo_data/train.csv\", parse_dates=[\"first_active_month\"])\n",
    "main_test = pd.read_csv(\"C:/Users/Irtaza Hussain/Downloads/Data Analysis/Elo_data/test.csv\",parse_dates=[\"first_active_month\"])\n",
    "main_merchants= pd.read_csv(\"C:/Users/Irtaza Hussain/Downloads/Data Analysis/Elo_data/merchants.csv\")\n",
    "main_new_merchant_transactions = pd.read_csv(\"C:/Users/Irtaza Hussain/Downloads/Data Analysis/Elo_data/new_merchant_transactions.csv\")\n",
    "main_historical_transactions = pd.read_csv(\"C:/Users/Irtaza Hussain/Downloads/Data Analysis/Elo_data/historical_transactions.csv\")"
   ]
  },
  {
   "cell_type": "code",
   "execution_count": 5,
   "metadata": {},
   "outputs": [],
   "source": [
    "sample_submission = pd.read_csv(\"C:/Users/Irtaza Hussain/Downloads/Data Analysis/Elo_data/sample_submission.csv\")"
   ]
  },
  {
   "cell_type": "code",
   "execution_count": 6,
   "metadata": {},
   "outputs": [
    {
     "data": {
      "text/plain": [
       "(123623, 2)"
      ]
     },
     "execution_count": 6,
     "metadata": {},
     "output_type": "execute_result"
    }
   ],
   "source": [
    "sample_submission.shape"
   ]
  },
  {
   "cell_type": "code",
   "execution_count": 7,
   "metadata": {},
   "outputs": [
    {
     "data": {
      "text/html": [
       "<div>\n",
       "<style scoped>\n",
       "    .dataframe tbody tr th:only-of-type {\n",
       "        vertical-align: middle;\n",
       "    }\n",
       "\n",
       "    .dataframe tbody tr th {\n",
       "        vertical-align: top;\n",
       "    }\n",
       "\n",
       "    .dataframe thead th {\n",
       "        text-align: right;\n",
       "    }\n",
       "</style>\n",
       "<table border=\"1\" class=\"dataframe\">\n",
       "  <thead>\n",
       "    <tr style=\"text-align: right;\">\n",
       "      <th></th>\n",
       "      <th>card_id</th>\n",
       "      <th>target</th>\n",
       "    </tr>\n",
       "  </thead>\n",
       "  <tbody>\n",
       "    <tr>\n",
       "      <th>0</th>\n",
       "      <td>C_ID_0ab67a22ab</td>\n",
       "      <td>0</td>\n",
       "    </tr>\n",
       "    <tr>\n",
       "      <th>1</th>\n",
       "      <td>C_ID_130fd0cbdd</td>\n",
       "      <td>0</td>\n",
       "    </tr>\n",
       "    <tr>\n",
       "      <th>2</th>\n",
       "      <td>C_ID_b709037bc5</td>\n",
       "      <td>0</td>\n",
       "    </tr>\n",
       "    <tr>\n",
       "      <th>3</th>\n",
       "      <td>C_ID_d27d835a9f</td>\n",
       "      <td>0</td>\n",
       "    </tr>\n",
       "    <tr>\n",
       "      <th>4</th>\n",
       "      <td>C_ID_2b5e3df5c2</td>\n",
       "      <td>0</td>\n",
       "    </tr>\n",
       "  </tbody>\n",
       "</table>\n",
       "</div>"
      ],
      "text/plain": [
       "           card_id  target\n",
       "0  C_ID_0ab67a22ab       0\n",
       "1  C_ID_130fd0cbdd       0\n",
       "2  C_ID_b709037bc5       0\n",
       "3  C_ID_d27d835a9f       0\n",
       "4  C_ID_2b5e3df5c2       0"
      ]
     },
     "execution_count": 7,
     "metadata": {},
     "output_type": "execute_result"
    }
   ],
   "source": [
    "sample_submission.head()"
   ]
  },
  {
   "cell_type": "code",
   "execution_count": 8,
   "metadata": {},
   "outputs": [
    {
     "name": "stdout",
     "output_type": "stream",
     "text": [
      "<class 'pandas.core.frame.DataFrame'>\n",
      "RangeIndex: 201917 entries, 0 to 201916\n",
      "Data columns (total 6 columns):\n",
      "first_active_month    201917 non-null datetime64[ns]\n",
      "card_id               201917 non-null object\n",
      "feature_1             201917 non-null int64\n",
      "feature_2             201917 non-null int64\n",
      "feature_3             201917 non-null int64\n",
      "target                201917 non-null float64\n",
      "dtypes: datetime64[ns](1), float64(1), int64(3), object(1)\n",
      "memory usage: 9.2+ MB\n",
      "None\n"
     ]
    }
   ],
   "source": [
    "print(main_train.info())"
   ]
  },
  {
   "cell_type": "code",
   "execution_count": 9,
   "metadata": {},
   "outputs": [
    {
     "name": "stdout",
     "output_type": "stream",
     "text": [
      "<class 'pandas.core.frame.DataFrame'>\n",
      "RangeIndex: 123623 entries, 0 to 123622\n",
      "Data columns (total 5 columns):\n",
      "first_active_month    123622 non-null datetime64[ns]\n",
      "card_id               123623 non-null object\n",
      "feature_1             123623 non-null int64\n",
      "feature_2             123623 non-null int64\n",
      "feature_3             123623 non-null int64\n",
      "dtypes: datetime64[ns](1), int64(3), object(1)\n",
      "memory usage: 4.7+ MB\n",
      "None\n"
     ]
    }
   ],
   "source": [
    "print(main_test.info())"
   ]
  },
  {
   "cell_type": "markdown",
   "metadata": {},
   "source": [
    "Explorer Dataset\n",
    "1- Dimensions of the dataset.\n",
    "\n",
    "2- Peek at the data itself.\n",
    "\n",
    "3- Statistical summary of all attributes.\n",
    "\n",
    "4- Breakdown of the data by the class variable.\n",
    "\n",
    "Note: Don’t worry, each look at the data is one command. These are useful commands that you can use again and again on future projects.\n",
    "\n",
    "Go to top\n",
    "Note:\n",
    "\n",
    "All data is simulated and fictitious, and is not real customer data\n",
    "Each row is an observation (also known as : sample, example, instance, record).\n",
    "Each colu"
   ]
  },
  {
   "cell_type": "code",
   "execution_count": 10,
   "metadata": {},
   "outputs": [
    {
     "name": "stdout",
     "output_type": "stream",
     "text": [
      "Shape of train set                 :  (201917, 6)\n",
      "Shape of test set                  :  (123623, 5)\n",
      "Shape of historical_transactions   :  (29112361, 14)\n",
      "Shape of merchants                 :  (334696, 22)\n",
      "Shape of new_merchant_transactions :  (1963031, 14)\n"
     ]
    }
   ],
   "source": [
    "print(\"Shape of train set                 : \",main_train.shape)\n",
    "print(\"Shape of test set                  : \",main_test.shape)\n",
    "print(\"Shape of historical_transactions   : \",main_historical_transactions.shape)\n",
    "print(\"Shape of merchants                 : \",main_merchants.shape)\n",
    "print(\"Shape of new_merchant_transactions : \",main_new_merchant_transactions.shape)"
   ]
  },
  {
   "cell_type": "markdown",
   "metadata": {},
   "source": [
    "#### Data_dictionary Analysis\n",
    "Elo Provides a excel file to describe about data(feature). It has four sheet and we have just read them with below code:"
   ]
  },
  {
   "cell_type": "code",
   "execution_count": 11,
   "metadata": {},
   "outputs": [],
   "source": [
    "data_dictionary_train = pd.read_excel(\"C:/Users/Irtaza Hussain/Downloads/Data Analysis/Elo_data/Data_Dictionary.xlsx\",\n",
    "                                      sheet_name=\"train\", engine='openpyxl')\n",
    "data_dictionary_history = pd.read_excel(\"C:/Users/Irtaza Hussain/Downloads/Data Analysis/Elo_data/Data_Dictionary.xlsx\",\n",
    "                                        sheet_name=\"history\", engine='openpyxl')\n",
    "data_dictionary_new_merchant_period = pd.read_excel(\"C:/Users/Irtaza Hussain/Downloads/Data Analysis/Elo_data/Data_Dictionary.xlsx\",\n",
    "                                                    sheet_name=\"new_merchant_period\", engine='openpyxl')\n",
    "data_dictionary_merchant = pd.read_excel(\"C:/Users/Irtaza Hussain/Downloads/Data Analysis/Elo_data/Data_Dictionary.xlsx\",\n",
    "                                          sheet_name=\"merchant\", engine='openpyxl')\n"
   ]
  },
  {
   "cell_type": "markdown",
   "metadata": {},
   "source": [
    "Features can be from following types:\n",
    "\n",
    "numeric\n",
    "categorical\n",
    "ordinal\n",
    "datetime\n",
    "coordinates\n",
    "Find the type of features in Elo dataset?!\n",
    "\n",
    "For getting some information about the dataset you can use info() command."
   ]
  },
  {
   "cell_type": "markdown",
   "metadata": {},
   "source": [
    "#### Train Analysis"
   ]
  },
  {
   "cell_type": "code",
   "execution_count": 12,
   "metadata": {},
   "outputs": [
    {
     "data": {
      "text/html": [
       "<div>\n",
       "<style scoped>\n",
       "    .dataframe tbody tr th:only-of-type {\n",
       "        vertical-align: middle;\n",
       "    }\n",
       "\n",
       "    .dataframe tbody tr th {\n",
       "        vertical-align: top;\n",
       "    }\n",
       "\n",
       "    .dataframe thead th {\n",
       "        text-align: right;\n",
       "    }\n",
       "</style>\n",
       "<table border=\"1\" class=\"dataframe\">\n",
       "  <thead>\n",
       "    <tr style=\"text-align: right;\">\n",
       "      <th></th>\n",
       "      <th>first_active_month</th>\n",
       "      <th>card_id</th>\n",
       "      <th>feature_1</th>\n",
       "      <th>feature_2</th>\n",
       "      <th>feature_3</th>\n",
       "      <th>target</th>\n",
       "    </tr>\n",
       "  </thead>\n",
       "  <tbody>\n",
       "    <tr>\n",
       "      <th>201912</th>\n",
       "      <td>2017-09-01</td>\n",
       "      <td>C_ID_963962de2c</td>\n",
       "      <td>3</td>\n",
       "      <td>2</td>\n",
       "      <td>1</td>\n",
       "      <td>-2.740821</td>\n",
       "    </tr>\n",
       "    <tr>\n",
       "      <th>201913</th>\n",
       "      <td>2015-10-01</td>\n",
       "      <td>C_ID_1314773c0b</td>\n",
       "      <td>3</td>\n",
       "      <td>1</td>\n",
       "      <td>1</td>\n",
       "      <td>0.312917</td>\n",
       "    </tr>\n",
       "    <tr>\n",
       "      <th>201914</th>\n",
       "      <td>2017-08-01</td>\n",
       "      <td>C_ID_7666735b3d</td>\n",
       "      <td>4</td>\n",
       "      <td>3</td>\n",
       "      <td>0</td>\n",
       "      <td>0.093494</td>\n",
       "    </tr>\n",
       "    <tr>\n",
       "      <th>201915</th>\n",
       "      <td>2016-07-01</td>\n",
       "      <td>C_ID_73f5a0efd0</td>\n",
       "      <td>3</td>\n",
       "      <td>2</td>\n",
       "      <td>1</td>\n",
       "      <td>-4.676589</td>\n",
       "    </tr>\n",
       "    <tr>\n",
       "      <th>201916</th>\n",
       "      <td>2017-07-01</td>\n",
       "      <td>C_ID_92c9984c58</td>\n",
       "      <td>3</td>\n",
       "      <td>1</td>\n",
       "      <td>1</td>\n",
       "      <td>-1.859413</td>\n",
       "    </tr>\n",
       "  </tbody>\n",
       "</table>\n",
       "</div>"
      ],
      "text/plain": [
       "       first_active_month          card_id  feature_1  feature_2  feature_3  \\\n",
       "201912         2017-09-01  C_ID_963962de2c          3          2          1   \n",
       "201913         2015-10-01  C_ID_1314773c0b          3          1          1   \n",
       "201914         2017-08-01  C_ID_7666735b3d          4          3          0   \n",
       "201915         2016-07-01  C_ID_73f5a0efd0          3          2          1   \n",
       "201916         2017-07-01  C_ID_92c9984c58          3          1          1   \n",
       "\n",
       "          target  \n",
       "201912 -2.740821  \n",
       "201913  0.312917  \n",
       "201914  0.093494  \n",
       "201915 -4.676589  \n",
       "201916 -1.859413  "
      ]
     },
     "execution_count": 12,
     "metadata": {},
     "output_type": "execute_result"
    }
   ],
   "source": [
    "main_train.tail()"
   ]
  },
  {
   "cell_type": "code",
   "execution_count": 13,
   "metadata": {},
   "outputs": [
    {
     "data": {
      "text/html": [
       "<div>\n",
       "<style scoped>\n",
       "    .dataframe tbody tr th:only-of-type {\n",
       "        vertical-align: middle;\n",
       "    }\n",
       "\n",
       "    .dataframe tbody tr th {\n",
       "        vertical-align: top;\n",
       "    }\n",
       "\n",
       "    .dataframe thead th {\n",
       "        text-align: right;\n",
       "    }\n",
       "</style>\n",
       "<table border=\"1\" class=\"dataframe\">\n",
       "  <thead>\n",
       "    <tr style=\"text-align: right;\">\n",
       "      <th></th>\n",
       "      <th>train.csv</th>\n",
       "      <th>Unnamed: 1</th>\n",
       "    </tr>\n",
       "  </thead>\n",
       "  <tbody>\n",
       "    <tr>\n",
       "      <th>0</th>\n",
       "      <td>NaN</td>\n",
       "      <td>NaN</td>\n",
       "    </tr>\n",
       "    <tr>\n",
       "      <th>1</th>\n",
       "      <td>Columns</td>\n",
       "      <td>Description</td>\n",
       "    </tr>\n",
       "    <tr>\n",
       "      <th>2</th>\n",
       "      <td>card_id</td>\n",
       "      <td>Unique card identifier</td>\n",
       "    </tr>\n",
       "    <tr>\n",
       "      <th>3</th>\n",
       "      <td>first_active_month</td>\n",
       "      <td>'YYYY-MM', month of first purchase</td>\n",
       "    </tr>\n",
       "    <tr>\n",
       "      <th>4</th>\n",
       "      <td>feature_1</td>\n",
       "      <td>Anonymized card categorical feature</td>\n",
       "    </tr>\n",
       "    <tr>\n",
       "      <th>5</th>\n",
       "      <td>feature_2</td>\n",
       "      <td>Anonymized card categorical feature</td>\n",
       "    </tr>\n",
       "    <tr>\n",
       "      <th>6</th>\n",
       "      <td>feature_3</td>\n",
       "      <td>Anonymized card categorical feature</td>\n",
       "    </tr>\n",
       "    <tr>\n",
       "      <th>7</th>\n",
       "      <td>target</td>\n",
       "      <td>Loyalty numerical score calculated 2 months af...</td>\n",
       "    </tr>\n",
       "  </tbody>\n",
       "</table>\n",
       "</div>"
      ],
      "text/plain": [
       "            train.csv                                         Unnamed: 1\n",
       "0                 NaN                                                NaN\n",
       "1             Columns                                        Description\n",
       "2             card_id                             Unique card identifier\n",
       "3  first_active_month                 'YYYY-MM', month of first purchase\n",
       "4           feature_1                Anonymized card categorical feature\n",
       "5           feature_2                Anonymized card categorical feature\n",
       "6           feature_3                Anonymized card categorical feature\n",
       "7              target  Loyalty numerical score calculated 2 months af..."
      ]
     },
     "execution_count": 13,
     "metadata": {},
     "output_type": "execute_result"
    }
   ],
   "source": [
    "data_dictionary_train.head(10)"
   ]
  },
  {
   "cell_type": "markdown",
   "metadata": {},
   "source": [
    "3 features are anonymized "
   ]
  },
  {
   "cell_type": "code",
   "execution_count": 14,
   "metadata": {},
   "outputs": [
    {
     "data": {
      "text/html": [
       "<div>\n",
       "<style scoped>\n",
       "    .dataframe tbody tr th:only-of-type {\n",
       "        vertical-align: middle;\n",
       "    }\n",
       "\n",
       "    .dataframe tbody tr th {\n",
       "        vertical-align: top;\n",
       "    }\n",
       "\n",
       "    .dataframe thead th {\n",
       "        text-align: right;\n",
       "    }\n",
       "</style>\n",
       "<table border=\"1\" class=\"dataframe\">\n",
       "  <thead>\n",
       "    <tr style=\"text-align: right;\">\n",
       "      <th></th>\n",
       "      <th>first_active_month</th>\n",
       "      <th>card_id</th>\n",
       "      <th>feature_1</th>\n",
       "      <th>feature_2</th>\n",
       "      <th>feature_3</th>\n",
       "      <th>target</th>\n",
       "    </tr>\n",
       "  </thead>\n",
       "  <tbody>\n",
       "    <tr>\n",
       "      <th>201912</th>\n",
       "      <td>2017-09-01</td>\n",
       "      <td>C_ID_963962de2c</td>\n",
       "      <td>3</td>\n",
       "      <td>2</td>\n",
       "      <td>1</td>\n",
       "      <td>-2.740821</td>\n",
       "    </tr>\n",
       "    <tr>\n",
       "      <th>201913</th>\n",
       "      <td>2015-10-01</td>\n",
       "      <td>C_ID_1314773c0b</td>\n",
       "      <td>3</td>\n",
       "      <td>1</td>\n",
       "      <td>1</td>\n",
       "      <td>0.312917</td>\n",
       "    </tr>\n",
       "    <tr>\n",
       "      <th>201914</th>\n",
       "      <td>2017-08-01</td>\n",
       "      <td>C_ID_7666735b3d</td>\n",
       "      <td>4</td>\n",
       "      <td>3</td>\n",
       "      <td>0</td>\n",
       "      <td>0.093494</td>\n",
       "    </tr>\n",
       "    <tr>\n",
       "      <th>201915</th>\n",
       "      <td>2016-07-01</td>\n",
       "      <td>C_ID_73f5a0efd0</td>\n",
       "      <td>3</td>\n",
       "      <td>2</td>\n",
       "      <td>1</td>\n",
       "      <td>-4.676589</td>\n",
       "    </tr>\n",
       "    <tr>\n",
       "      <th>201916</th>\n",
       "      <td>2017-07-01</td>\n",
       "      <td>C_ID_92c9984c58</td>\n",
       "      <td>3</td>\n",
       "      <td>1</td>\n",
       "      <td>1</td>\n",
       "      <td>-1.859413</td>\n",
       "    </tr>\n",
       "  </tbody>\n",
       "</table>\n",
       "</div>"
      ],
      "text/plain": [
       "       first_active_month          card_id  feature_1  feature_2  feature_3  \\\n",
       "201912         2017-09-01  C_ID_963962de2c          3          2          1   \n",
       "201913         2015-10-01  C_ID_1314773c0b          3          1          1   \n",
       "201914         2017-08-01  C_ID_7666735b3d          4          3          0   \n",
       "201915         2016-07-01  C_ID_73f5a0efd0          3          2          1   \n",
       "201916         2017-07-01  C_ID_92c9984c58          3          1          1   \n",
       "\n",
       "          target  \n",
       "201912 -2.740821  \n",
       "201913  0.312917  \n",
       "201914  0.093494  \n",
       "201915 -4.676589  \n",
       "201916 -1.859413  "
      ]
     },
     "execution_count": 14,
     "metadata": {},
     "output_type": "execute_result"
    }
   ],
   "source": [
    "main_train.tail()"
   ]
  },
  {
   "cell_type": "markdown",
   "metadata": {},
   "source": [
    "After loading the data via pandas, we should checkout what the content is , description and the via the following:"
   ]
  },
  {
   "cell_type": "code",
   "execution_count": 15,
   "metadata": {},
   "outputs": [
    {
     "data": {
      "text/html": [
       "<div>\n",
       "<style scoped>\n",
       "    .dataframe tbody tr th:only-of-type {\n",
       "        vertical-align: middle;\n",
       "    }\n",
       "\n",
       "    .dataframe tbody tr th {\n",
       "        vertical-align: top;\n",
       "    }\n",
       "\n",
       "    .dataframe thead th {\n",
       "        text-align: right;\n",
       "    }\n",
       "</style>\n",
       "<table border=\"1\" class=\"dataframe\">\n",
       "  <thead>\n",
       "    <tr style=\"text-align: right;\">\n",
       "      <th></th>\n",
       "      <th>feature_1</th>\n",
       "      <th>feature_2</th>\n",
       "      <th>feature_3</th>\n",
       "      <th>target</th>\n",
       "    </tr>\n",
       "  </thead>\n",
       "  <tbody>\n",
       "    <tr>\n",
       "      <th>count</th>\n",
       "      <td>201917.000000</td>\n",
       "      <td>201917.000000</td>\n",
       "      <td>201917.000000</td>\n",
       "      <td>201917.000000</td>\n",
       "    </tr>\n",
       "    <tr>\n",
       "      <th>mean</th>\n",
       "      <td>3.105311</td>\n",
       "      <td>1.745410</td>\n",
       "      <td>0.565569</td>\n",
       "      <td>-0.393636</td>\n",
       "    </tr>\n",
       "    <tr>\n",
       "      <th>std</th>\n",
       "      <td>1.186160</td>\n",
       "      <td>0.751362</td>\n",
       "      <td>0.495683</td>\n",
       "      <td>3.850500</td>\n",
       "    </tr>\n",
       "    <tr>\n",
       "      <th>min</th>\n",
       "      <td>1.000000</td>\n",
       "      <td>1.000000</td>\n",
       "      <td>0.000000</td>\n",
       "      <td>-33.219281</td>\n",
       "    </tr>\n",
       "    <tr>\n",
       "      <th>25%</th>\n",
       "      <td>2.000000</td>\n",
       "      <td>1.000000</td>\n",
       "      <td>0.000000</td>\n",
       "      <td>-0.883110</td>\n",
       "    </tr>\n",
       "    <tr>\n",
       "      <th>50%</th>\n",
       "      <td>3.000000</td>\n",
       "      <td>2.000000</td>\n",
       "      <td>1.000000</td>\n",
       "      <td>-0.023437</td>\n",
       "    </tr>\n",
       "    <tr>\n",
       "      <th>75%</th>\n",
       "      <td>4.000000</td>\n",
       "      <td>2.000000</td>\n",
       "      <td>1.000000</td>\n",
       "      <td>0.765453</td>\n",
       "    </tr>\n",
       "    <tr>\n",
       "      <th>max</th>\n",
       "      <td>5.000000</td>\n",
       "      <td>3.000000</td>\n",
       "      <td>1.000000</td>\n",
       "      <td>17.965068</td>\n",
       "    </tr>\n",
       "  </tbody>\n",
       "</table>\n",
       "</div>"
      ],
      "text/plain": [
       "           feature_1      feature_2      feature_3         target\n",
       "count  201917.000000  201917.000000  201917.000000  201917.000000\n",
       "mean        3.105311       1.745410       0.565569      -0.393636\n",
       "std         1.186160       0.751362       0.495683       3.850500\n",
       "min         1.000000       1.000000       0.000000     -33.219281\n",
       "25%         2.000000       1.000000       0.000000      -0.883110\n",
       "50%         3.000000       2.000000       1.000000      -0.023437\n",
       "75%         4.000000       2.000000       1.000000       0.765453\n",
       "max         5.000000       3.000000       1.000000      17.965068"
      ]
     },
     "execution_count": 15,
     "metadata": {},
     "output_type": "execute_result"
    }
   ],
   "source": [
    "main_train.describe()"
   ]
  },
  {
   "cell_type": "markdown",
   "metadata": {},
   "source": [
    "The train set is approximately twice the test set\n",
    "The target data value is between -33.219281 and 17.965068"
   ]
  },
  {
   "cell_type": "markdown",
   "metadata": {},
   "source": [
    "##### Test Analysis"
   ]
  },
  {
   "cell_type": "code",
   "execution_count": 16,
   "metadata": {},
   "outputs": [
    {
     "name": "stdout",
     "output_type": "stream",
     "text": [
      "-------test set------\n",
      "  first_active_month          card_id  feature_1  feature_2  feature_3\n",
      "0         2017-04-01  C_ID_0ab67a22ab          3          3          1\n",
      "1         2017-01-01  C_ID_130fd0cbdd          2          3          0\n",
      "2         2017-08-01  C_ID_b709037bc5          5          1          1\n",
      "3         2017-12-01  C_ID_d27d835a9f          2          1          0\n",
      "4         2015-12-01  C_ID_2b5e3df5c2          5          1          1\n"
     ]
    }
   ],
   "source": [
    "print(\"-------test set------\")\n",
    "print(main_test.head(5))"
   ]
  },
  {
   "cell_type": "code",
   "execution_count": 17,
   "metadata": {},
   "outputs": [
    {
     "name": "stdout",
     "output_type": "stream",
     "text": [
      "<class 'pandas.core.frame.DataFrame'>\n",
      "RangeIndex: 123623 entries, 0 to 123622\n",
      "Data columns (total 5 columns):\n",
      "first_active_month    123622 non-null datetime64[ns]\n",
      "card_id               123623 non-null object\n",
      "feature_1             123623 non-null int64\n",
      "feature_2             123623 non-null int64\n",
      "feature_3             123623 non-null int64\n",
      "dtypes: datetime64[ns](1), int64(3), object(1)\n",
      "memory usage: 4.7+ MB\n"
     ]
    }
   ],
   "source": [
    "main_test.info()"
   ]
  },
  {
   "cell_type": "code",
   "execution_count": 18,
   "metadata": {},
   "outputs": [
    {
     "data": {
      "text/html": [
       "<div>\n",
       "<style scoped>\n",
       "    .dataframe tbody tr th:only-of-type {\n",
       "        vertical-align: middle;\n",
       "    }\n",
       "\n",
       "    .dataframe tbody tr th {\n",
       "        vertical-align: top;\n",
       "    }\n",
       "\n",
       "    .dataframe thead th {\n",
       "        text-align: right;\n",
       "    }\n",
       "</style>\n",
       "<table border=\"1\" class=\"dataframe\">\n",
       "  <thead>\n",
       "    <tr style=\"text-align: right;\">\n",
       "      <th></th>\n",
       "      <th>feature_1</th>\n",
       "      <th>feature_2</th>\n",
       "      <th>feature_3</th>\n",
       "    </tr>\n",
       "  </thead>\n",
       "  <tbody>\n",
       "    <tr>\n",
       "      <th>count</th>\n",
       "      <td>123623.00000</td>\n",
       "      <td>123623.000000</td>\n",
       "      <td>123623.000000</td>\n",
       "    </tr>\n",
       "    <tr>\n",
       "      <th>mean</th>\n",
       "      <td>3.10926</td>\n",
       "      <td>1.741796</td>\n",
       "      <td>0.564377</td>\n",
       "    </tr>\n",
       "    <tr>\n",
       "      <th>std</th>\n",
       "      <td>1.18911</td>\n",
       "      <td>0.749195</td>\n",
       "      <td>0.495840</td>\n",
       "    </tr>\n",
       "    <tr>\n",
       "      <th>min</th>\n",
       "      <td>1.00000</td>\n",
       "      <td>1.000000</td>\n",
       "      <td>0.000000</td>\n",
       "    </tr>\n",
       "    <tr>\n",
       "      <th>25%</th>\n",
       "      <td>2.00000</td>\n",
       "      <td>1.000000</td>\n",
       "      <td>0.000000</td>\n",
       "    </tr>\n",
       "    <tr>\n",
       "      <th>50%</th>\n",
       "      <td>3.00000</td>\n",
       "      <td>2.000000</td>\n",
       "      <td>1.000000</td>\n",
       "    </tr>\n",
       "    <tr>\n",
       "      <th>75%</th>\n",
       "      <td>4.00000</td>\n",
       "      <td>2.000000</td>\n",
       "      <td>1.000000</td>\n",
       "    </tr>\n",
       "    <tr>\n",
       "      <th>max</th>\n",
       "      <td>5.00000</td>\n",
       "      <td>3.000000</td>\n",
       "      <td>1.000000</td>\n",
       "    </tr>\n",
       "  </tbody>\n",
       "</table>\n",
       "</div>"
      ],
      "text/plain": [
       "          feature_1      feature_2      feature_3\n",
       "count  123623.00000  123623.000000  123623.000000\n",
       "mean        3.10926       1.741796       0.564377\n",
       "std         1.18911       0.749195       0.495840\n",
       "min         1.00000       1.000000       0.000000\n",
       "25%         2.00000       1.000000       0.000000\n",
       "50%         3.00000       2.000000       1.000000\n",
       "75%         4.00000       2.000000       1.000000\n",
       "max         5.00000       3.000000       1.000000"
      ]
     },
     "execution_count": 18,
     "metadata": {},
     "output_type": "execute_result"
    }
   ],
   "source": [
    "main_test.describe()"
   ]
  },
  {
   "cell_type": "markdown",
   "metadata": {},
   "source": [
    "we can say that if we compare the describe features for test and tarin they are pretty similar"
   ]
  },
  {
   "cell_type": "markdown",
   "metadata": {},
   "source": [
    "#### Historical Transactions Analysis"
   ]
  },
  {
   "cell_type": "code",
   "execution_count": 19,
   "metadata": {},
   "outputs": [
    {
     "data": {
      "text/html": [
       "<div>\n",
       "<style scoped>\n",
       "    .dataframe tbody tr th:only-of-type {\n",
       "        vertical-align: middle;\n",
       "    }\n",
       "\n",
       "    .dataframe tbody tr th {\n",
       "        vertical-align: top;\n",
       "    }\n",
       "\n",
       "    .dataframe thead th {\n",
       "        text-align: right;\n",
       "    }\n",
       "</style>\n",
       "<table border=\"1\" class=\"dataframe\">\n",
       "  <thead>\n",
       "    <tr style=\"text-align: right;\">\n",
       "      <th></th>\n",
       "      <th>historical_transactions.csv</th>\n",
       "      <th>Unnamed: 1</th>\n",
       "    </tr>\n",
       "  </thead>\n",
       "  <tbody>\n",
       "    <tr>\n",
       "      <th>0</th>\n",
       "      <td>NaN</td>\n",
       "      <td>NaN</td>\n",
       "    </tr>\n",
       "    <tr>\n",
       "      <th>1</th>\n",
       "      <td>Columns</td>\n",
       "      <td>Description</td>\n",
       "    </tr>\n",
       "    <tr>\n",
       "      <th>2</th>\n",
       "      <td>card_id</td>\n",
       "      <td>Card identifier</td>\n",
       "    </tr>\n",
       "    <tr>\n",
       "      <th>3</th>\n",
       "      <td>month_lag</td>\n",
       "      <td>month lag to reference date</td>\n",
       "    </tr>\n",
       "    <tr>\n",
       "      <th>4</th>\n",
       "      <td>purchase_date</td>\n",
       "      <td>Purchase date</td>\n",
       "    </tr>\n",
       "    <tr>\n",
       "      <th>5</th>\n",
       "      <td>authorized_flag</td>\n",
       "      <td>Y' if approved, 'N' if denied</td>\n",
       "    </tr>\n",
       "    <tr>\n",
       "      <th>6</th>\n",
       "      <td>category_3</td>\n",
       "      <td>anonymized category</td>\n",
       "    </tr>\n",
       "    <tr>\n",
       "      <th>7</th>\n",
       "      <td>installments</td>\n",
       "      <td>number of installments of purchase</td>\n",
       "    </tr>\n",
       "    <tr>\n",
       "      <th>8</th>\n",
       "      <td>category_1</td>\n",
       "      <td>anonymized category</td>\n",
       "    </tr>\n",
       "    <tr>\n",
       "      <th>9</th>\n",
       "      <td>merchant_category_id</td>\n",
       "      <td>Merchant category identifier (anonymized )</td>\n",
       "    </tr>\n",
       "  </tbody>\n",
       "</table>\n",
       "</div>"
      ],
      "text/plain": [
       "  historical_transactions.csv                                  Unnamed: 1\n",
       "0                         NaN                                         NaN\n",
       "1                     Columns                                 Description\n",
       "2                     card_id                             Card identifier\n",
       "3                   month_lag                 month lag to reference date\n",
       "4               purchase_date                               Purchase date\n",
       "5             authorized_flag               Y' if approved, 'N' if denied\n",
       "6                  category_3                         anonymized category\n",
       "7                installments          number of installments of purchase\n",
       "8                  category_1                         anonymized category\n",
       "9        merchant_category_id  Merchant category identifier (anonymized )"
      ]
     },
     "execution_count": 19,
     "metadata": {},
     "output_type": "execute_result"
    }
   ],
   "source": [
    "data_dictionary_history.head(10)"
   ]
  },
  {
   "cell_type": "code",
   "execution_count": 20,
   "metadata": {},
   "outputs": [
    {
     "data": {
      "text/html": [
       "<div>\n",
       "<style scoped>\n",
       "    .dataframe tbody tr th:only-of-type {\n",
       "        vertical-align: middle;\n",
       "    }\n",
       "\n",
       "    .dataframe tbody tr th {\n",
       "        vertical-align: top;\n",
       "    }\n",
       "\n",
       "    .dataframe thead th {\n",
       "        text-align: right;\n",
       "    }\n",
       "</style>\n",
       "<table border=\"1\" class=\"dataframe\">\n",
       "  <thead>\n",
       "    <tr style=\"text-align: right;\">\n",
       "      <th></th>\n",
       "      <th>authorized_flag</th>\n",
       "      <th>card_id</th>\n",
       "      <th>city_id</th>\n",
       "      <th>category_1</th>\n",
       "      <th>installments</th>\n",
       "      <th>category_3</th>\n",
       "      <th>merchant_category_id</th>\n",
       "      <th>merchant_id</th>\n",
       "      <th>month_lag</th>\n",
       "      <th>purchase_amount</th>\n",
       "      <th>purchase_date</th>\n",
       "      <th>category_2</th>\n",
       "      <th>state_id</th>\n",
       "      <th>subsector_id</th>\n",
       "    </tr>\n",
       "  </thead>\n",
       "  <tbody>\n",
       "    <tr>\n",
       "      <th>0</th>\n",
       "      <td>Y</td>\n",
       "      <td>C_ID_4e6213e9bc</td>\n",
       "      <td>88</td>\n",
       "      <td>N</td>\n",
       "      <td>0</td>\n",
       "      <td>A</td>\n",
       "      <td>80</td>\n",
       "      <td>M_ID_e020e9b302</td>\n",
       "      <td>-8</td>\n",
       "      <td>-0.703331</td>\n",
       "      <td>2017-06-25 15:33:07</td>\n",
       "      <td>1.0</td>\n",
       "      <td>16</td>\n",
       "      <td>37</td>\n",
       "    </tr>\n",
       "    <tr>\n",
       "      <th>1</th>\n",
       "      <td>Y</td>\n",
       "      <td>C_ID_4e6213e9bc</td>\n",
       "      <td>88</td>\n",
       "      <td>N</td>\n",
       "      <td>0</td>\n",
       "      <td>A</td>\n",
       "      <td>367</td>\n",
       "      <td>M_ID_86ec983688</td>\n",
       "      <td>-7</td>\n",
       "      <td>-0.733128</td>\n",
       "      <td>2017-07-15 12:10:45</td>\n",
       "      <td>1.0</td>\n",
       "      <td>16</td>\n",
       "      <td>16</td>\n",
       "    </tr>\n",
       "    <tr>\n",
       "      <th>2</th>\n",
       "      <td>Y</td>\n",
       "      <td>C_ID_4e6213e9bc</td>\n",
       "      <td>88</td>\n",
       "      <td>N</td>\n",
       "      <td>0</td>\n",
       "      <td>A</td>\n",
       "      <td>80</td>\n",
       "      <td>M_ID_979ed661fc</td>\n",
       "      <td>-6</td>\n",
       "      <td>-0.720386</td>\n",
       "      <td>2017-08-09 22:04:29</td>\n",
       "      <td>1.0</td>\n",
       "      <td>16</td>\n",
       "      <td>37</td>\n",
       "    </tr>\n",
       "    <tr>\n",
       "      <th>3</th>\n",
       "      <td>Y</td>\n",
       "      <td>C_ID_4e6213e9bc</td>\n",
       "      <td>88</td>\n",
       "      <td>N</td>\n",
       "      <td>0</td>\n",
       "      <td>A</td>\n",
       "      <td>560</td>\n",
       "      <td>M_ID_e6d5ae8ea6</td>\n",
       "      <td>-5</td>\n",
       "      <td>-0.735352</td>\n",
       "      <td>2017-09-02 10:06:26</td>\n",
       "      <td>1.0</td>\n",
       "      <td>16</td>\n",
       "      <td>34</td>\n",
       "    </tr>\n",
       "    <tr>\n",
       "      <th>4</th>\n",
       "      <td>Y</td>\n",
       "      <td>C_ID_4e6213e9bc</td>\n",
       "      <td>88</td>\n",
       "      <td>N</td>\n",
       "      <td>0</td>\n",
       "      <td>A</td>\n",
       "      <td>80</td>\n",
       "      <td>M_ID_e020e9b302</td>\n",
       "      <td>-11</td>\n",
       "      <td>-0.722865</td>\n",
       "      <td>2017-03-10 01:14:19</td>\n",
       "      <td>1.0</td>\n",
       "      <td>16</td>\n",
       "      <td>37</td>\n",
       "    </tr>\n",
       "  </tbody>\n",
       "</table>\n",
       "</div>"
      ],
      "text/plain": [
       "  authorized_flag          card_id  city_id category_1  installments  \\\n",
       "0               Y  C_ID_4e6213e9bc       88          N             0   \n",
       "1               Y  C_ID_4e6213e9bc       88          N             0   \n",
       "2               Y  C_ID_4e6213e9bc       88          N             0   \n",
       "3               Y  C_ID_4e6213e9bc       88          N             0   \n",
       "4               Y  C_ID_4e6213e9bc       88          N             0   \n",
       "\n",
       "  category_3  merchant_category_id      merchant_id  month_lag  \\\n",
       "0          A                    80  M_ID_e020e9b302         -8   \n",
       "1          A                   367  M_ID_86ec983688         -7   \n",
       "2          A                    80  M_ID_979ed661fc         -6   \n",
       "3          A                   560  M_ID_e6d5ae8ea6         -5   \n",
       "4          A                    80  M_ID_e020e9b302        -11   \n",
       "\n",
       "   purchase_amount        purchase_date  category_2  state_id  subsector_id  \n",
       "0        -0.703331  2017-06-25 15:33:07         1.0        16            37  \n",
       "1        -0.733128  2017-07-15 12:10:45         1.0        16            16  \n",
       "2        -0.720386  2017-08-09 22:04:29         1.0        16            37  \n",
       "3        -0.735352  2017-09-02 10:06:26         1.0        16            34  \n",
       "4        -0.722865  2017-03-10 01:14:19         1.0        16            37  "
      ]
     },
     "execution_count": 20,
     "metadata": {},
     "output_type": "execute_result"
    }
   ],
   "source": [
    "main_historical_transactions.head()"
   ]
  },
  {
   "cell_type": "code",
   "execution_count": 21,
   "metadata": {},
   "outputs": [
    {
     "data": {
      "text/plain": [
       "(29112361, 14)"
      ]
     },
     "execution_count": 21,
     "metadata": {},
     "output_type": "execute_result"
    }
   ],
   "source": [
    "main_historical_transactions.shape"
   ]
  },
  {
   "cell_type": "markdown",
   "metadata": {},
   "source": [
    " #### Merchant Analysis "
   ]
  },
  {
   "cell_type": "code",
   "execution_count": 22,
   "metadata": {},
   "outputs": [
    {
     "data": {
      "text/html": [
       "<div>\n",
       "<style scoped>\n",
       "    .dataframe tbody tr th:only-of-type {\n",
       "        vertical-align: middle;\n",
       "    }\n",
       "\n",
       "    .dataframe tbody tr th {\n",
       "        vertical-align: top;\n",
       "    }\n",
       "\n",
       "    .dataframe thead th {\n",
       "        text-align: right;\n",
       "    }\n",
       "</style>\n",
       "<table border=\"1\" class=\"dataframe\">\n",
       "  <thead>\n",
       "    <tr style=\"text-align: right;\">\n",
       "      <th></th>\n",
       "      <th>merchant_id</th>\n",
       "      <th>merchant_group_id</th>\n",
       "      <th>merchant_category_id</th>\n",
       "      <th>subsector_id</th>\n",
       "      <th>numerical_1</th>\n",
       "      <th>numerical_2</th>\n",
       "      <th>category_1</th>\n",
       "      <th>most_recent_sales_range</th>\n",
       "      <th>most_recent_purchases_range</th>\n",
       "      <th>avg_sales_lag3</th>\n",
       "      <th>avg_purchases_lag3</th>\n",
       "      <th>active_months_lag3</th>\n",
       "      <th>avg_sales_lag6</th>\n",
       "      <th>avg_purchases_lag6</th>\n",
       "      <th>active_months_lag6</th>\n",
       "      <th>avg_sales_lag12</th>\n",
       "      <th>avg_purchases_lag12</th>\n",
       "      <th>active_months_lag12</th>\n",
       "      <th>category_4</th>\n",
       "      <th>city_id</th>\n",
       "      <th>state_id</th>\n",
       "      <th>category_2</th>\n",
       "    </tr>\n",
       "  </thead>\n",
       "  <tbody>\n",
       "    <tr>\n",
       "      <th>0</th>\n",
       "      <td>M_ID_838061e48c</td>\n",
       "      <td>8353</td>\n",
       "      <td>792</td>\n",
       "      <td>9</td>\n",
       "      <td>-0.057471</td>\n",
       "      <td>-0.057471</td>\n",
       "      <td>N</td>\n",
       "      <td>E</td>\n",
       "      <td>E</td>\n",
       "      <td>-0.40</td>\n",
       "      <td>9.666667</td>\n",
       "      <td>3</td>\n",
       "      <td>-2.25</td>\n",
       "      <td>18.666667</td>\n",
       "      <td>6</td>\n",
       "      <td>-2.32</td>\n",
       "      <td>13.916667</td>\n",
       "      <td>12</td>\n",
       "      <td>N</td>\n",
       "      <td>242</td>\n",
       "      <td>9</td>\n",
       "      <td>1.0</td>\n",
       "    </tr>\n",
       "    <tr>\n",
       "      <th>1</th>\n",
       "      <td>M_ID_9339d880ad</td>\n",
       "      <td>3184</td>\n",
       "      <td>840</td>\n",
       "      <td>20</td>\n",
       "      <td>-0.057471</td>\n",
       "      <td>-0.057471</td>\n",
       "      <td>N</td>\n",
       "      <td>E</td>\n",
       "      <td>E</td>\n",
       "      <td>-0.72</td>\n",
       "      <td>1.750000</td>\n",
       "      <td>3</td>\n",
       "      <td>-0.74</td>\n",
       "      <td>1.291667</td>\n",
       "      <td>6</td>\n",
       "      <td>-0.57</td>\n",
       "      <td>1.687500</td>\n",
       "      <td>12</td>\n",
       "      <td>N</td>\n",
       "      <td>22</td>\n",
       "      <td>16</td>\n",
       "      <td>1.0</td>\n",
       "    </tr>\n",
       "    <tr>\n",
       "      <th>2</th>\n",
       "      <td>M_ID_e726bbae1e</td>\n",
       "      <td>447</td>\n",
       "      <td>690</td>\n",
       "      <td>1</td>\n",
       "      <td>-0.057471</td>\n",
       "      <td>-0.057471</td>\n",
       "      <td>N</td>\n",
       "      <td>E</td>\n",
       "      <td>E</td>\n",
       "      <td>-82.13</td>\n",
       "      <td>260.000000</td>\n",
       "      <td>2</td>\n",
       "      <td>-82.13</td>\n",
       "      <td>260.000000</td>\n",
       "      <td>2</td>\n",
       "      <td>-82.13</td>\n",
       "      <td>260.000000</td>\n",
       "      <td>2</td>\n",
       "      <td>N</td>\n",
       "      <td>-1</td>\n",
       "      <td>5</td>\n",
       "      <td>5.0</td>\n",
       "    </tr>\n",
       "    <tr>\n",
       "      <th>3</th>\n",
       "      <td>M_ID_a70e9c5f81</td>\n",
       "      <td>5026</td>\n",
       "      <td>792</td>\n",
       "      <td>9</td>\n",
       "      <td>-0.057471</td>\n",
       "      <td>-0.057471</td>\n",
       "      <td>Y</td>\n",
       "      <td>E</td>\n",
       "      <td>E</td>\n",
       "      <td>NaN</td>\n",
       "      <td>1.666667</td>\n",
       "      <td>3</td>\n",
       "      <td>NaN</td>\n",
       "      <td>4.666667</td>\n",
       "      <td>6</td>\n",
       "      <td>NaN</td>\n",
       "      <td>3.833333</td>\n",
       "      <td>12</td>\n",
       "      <td>Y</td>\n",
       "      <td>-1</td>\n",
       "      <td>-1</td>\n",
       "      <td>NaN</td>\n",
       "    </tr>\n",
       "    <tr>\n",
       "      <th>4</th>\n",
       "      <td>M_ID_64456c37ce</td>\n",
       "      <td>2228</td>\n",
       "      <td>222</td>\n",
       "      <td>21</td>\n",
       "      <td>-0.057471</td>\n",
       "      <td>-0.057471</td>\n",
       "      <td>Y</td>\n",
       "      <td>E</td>\n",
       "      <td>E</td>\n",
       "      <td>NaN</td>\n",
       "      <td>0.500000</td>\n",
       "      <td>3</td>\n",
       "      <td>NaN</td>\n",
       "      <td>0.361111</td>\n",
       "      <td>6</td>\n",
       "      <td>NaN</td>\n",
       "      <td>0.347222</td>\n",
       "      <td>12</td>\n",
       "      <td>Y</td>\n",
       "      <td>-1</td>\n",
       "      <td>-1</td>\n",
       "      <td>NaN</td>\n",
       "    </tr>\n",
       "  </tbody>\n",
       "</table>\n",
       "</div>"
      ],
      "text/plain": [
       "       merchant_id  merchant_group_id  merchant_category_id  subsector_id  \\\n",
       "0  M_ID_838061e48c               8353                   792             9   \n",
       "1  M_ID_9339d880ad               3184                   840            20   \n",
       "2  M_ID_e726bbae1e                447                   690             1   \n",
       "3  M_ID_a70e9c5f81               5026                   792             9   \n",
       "4  M_ID_64456c37ce               2228                   222            21   \n",
       "\n",
       "   numerical_1  numerical_2 category_1 most_recent_sales_range  \\\n",
       "0    -0.057471    -0.057471          N                       E   \n",
       "1    -0.057471    -0.057471          N                       E   \n",
       "2    -0.057471    -0.057471          N                       E   \n",
       "3    -0.057471    -0.057471          Y                       E   \n",
       "4    -0.057471    -0.057471          Y                       E   \n",
       "\n",
       "  most_recent_purchases_range  avg_sales_lag3  avg_purchases_lag3  \\\n",
       "0                           E           -0.40            9.666667   \n",
       "1                           E           -0.72            1.750000   \n",
       "2                           E          -82.13          260.000000   \n",
       "3                           E             NaN            1.666667   \n",
       "4                           E             NaN            0.500000   \n",
       "\n",
       "   active_months_lag3  avg_sales_lag6  avg_purchases_lag6  active_months_lag6  \\\n",
       "0                   3           -2.25           18.666667                   6   \n",
       "1                   3           -0.74            1.291667                   6   \n",
       "2                   2          -82.13          260.000000                   2   \n",
       "3                   3             NaN            4.666667                   6   \n",
       "4                   3             NaN            0.361111                   6   \n",
       "\n",
       "   avg_sales_lag12  avg_purchases_lag12  active_months_lag12 category_4  \\\n",
       "0            -2.32            13.916667                   12          N   \n",
       "1            -0.57             1.687500                   12          N   \n",
       "2           -82.13           260.000000                    2          N   \n",
       "3              NaN             3.833333                   12          Y   \n",
       "4              NaN             0.347222                   12          Y   \n",
       "\n",
       "   city_id  state_id  category_2  \n",
       "0      242         9         1.0  \n",
       "1       22        16         1.0  \n",
       "2       -1         5         5.0  \n",
       "3       -1        -1         NaN  \n",
       "4       -1        -1         NaN  "
      ]
     },
     "execution_count": 22,
     "metadata": {},
     "output_type": "execute_result"
    }
   ],
   "source": [
    "main_merchants.head()"
   ]
  },
  {
   "cell_type": "code",
   "execution_count": 23,
   "metadata": {},
   "outputs": [
    {
     "data": {
      "text/html": [
       "<div>\n",
       "<style scoped>\n",
       "    .dataframe tbody tr th:only-of-type {\n",
       "        vertical-align: middle;\n",
       "    }\n",
       "\n",
       "    .dataframe tbody tr th {\n",
       "        vertical-align: top;\n",
       "    }\n",
       "\n",
       "    .dataframe thead th {\n",
       "        text-align: right;\n",
       "    }\n",
       "</style>\n",
       "<table border=\"1\" class=\"dataframe\">\n",
       "  <thead>\n",
       "    <tr style=\"text-align: right;\">\n",
       "      <th></th>\n",
       "      <th>merchants.csv</th>\n",
       "      <th>Unnamed: 1</th>\n",
       "    </tr>\n",
       "  </thead>\n",
       "  <tbody>\n",
       "    <tr>\n",
       "      <th>0</th>\n",
       "      <td>NaN</td>\n",
       "      <td>NaN</td>\n",
       "    </tr>\n",
       "    <tr>\n",
       "      <th>1</th>\n",
       "      <td>Columns</td>\n",
       "      <td>Description</td>\n",
       "    </tr>\n",
       "    <tr>\n",
       "      <th>2</th>\n",
       "      <td>merchant_id</td>\n",
       "      <td>Unique merchant identifier</td>\n",
       "    </tr>\n",
       "    <tr>\n",
       "      <th>3</th>\n",
       "      <td>merchant_group_id</td>\n",
       "      <td>Merchant group (anonymized )</td>\n",
       "    </tr>\n",
       "    <tr>\n",
       "      <th>4</th>\n",
       "      <td>merchant_category_id</td>\n",
       "      <td>Unique identifier for merchant category (anony...</td>\n",
       "    </tr>\n",
       "    <tr>\n",
       "      <th>5</th>\n",
       "      <td>subsector_id</td>\n",
       "      <td>Merchant category group (anonymized )</td>\n",
       "    </tr>\n",
       "    <tr>\n",
       "      <th>6</th>\n",
       "      <td>numerical_1</td>\n",
       "      <td>anonymized measure</td>\n",
       "    </tr>\n",
       "    <tr>\n",
       "      <th>7</th>\n",
       "      <td>numerical_2</td>\n",
       "      <td>anonymized measure</td>\n",
       "    </tr>\n",
       "    <tr>\n",
       "      <th>8</th>\n",
       "      <td>category_1</td>\n",
       "      <td>anonymized category</td>\n",
       "    </tr>\n",
       "    <tr>\n",
       "      <th>9</th>\n",
       "      <td>most_recent_sales_range</td>\n",
       "      <td>Range of revenue (monetary units) in last acti...</td>\n",
       "    </tr>\n",
       "    <tr>\n",
       "      <th>10</th>\n",
       "      <td>most_recent_purchases_range</td>\n",
       "      <td>Range of quantity of transactions in last acti...</td>\n",
       "    </tr>\n",
       "    <tr>\n",
       "      <th>11</th>\n",
       "      <td>avg_sales_lag3</td>\n",
       "      <td>Monthly average of revenue in last 3 months di...</td>\n",
       "    </tr>\n",
       "    <tr>\n",
       "      <th>12</th>\n",
       "      <td>avg_purchases_lag3</td>\n",
       "      <td>Monthly average of transactions in last 3 mont...</td>\n",
       "    </tr>\n",
       "    <tr>\n",
       "      <th>13</th>\n",
       "      <td>active_months_lag3</td>\n",
       "      <td>Quantity of active months within last 3 months</td>\n",
       "    </tr>\n",
       "    <tr>\n",
       "      <th>14</th>\n",
       "      <td>avg_sales_lag6</td>\n",
       "      <td>Monthly average of revenue in last 6 months di...</td>\n",
       "    </tr>\n",
       "    <tr>\n",
       "      <th>15</th>\n",
       "      <td>avg_purchases_lag6</td>\n",
       "      <td>Monthly average of transactions in last 6 mont...</td>\n",
       "    </tr>\n",
       "    <tr>\n",
       "      <th>16</th>\n",
       "      <td>active_months_lag6</td>\n",
       "      <td>Quantity of active months within last 6 months</td>\n",
       "    </tr>\n",
       "    <tr>\n",
       "      <th>17</th>\n",
       "      <td>avg_sales_lag12</td>\n",
       "      <td>Monthly average of revenue in last 12 months d...</td>\n",
       "    </tr>\n",
       "    <tr>\n",
       "      <th>18</th>\n",
       "      <td>avg_purchases_lag12</td>\n",
       "      <td>Monthly average of transactions in last 12 mon...</td>\n",
       "    </tr>\n",
       "    <tr>\n",
       "      <th>19</th>\n",
       "      <td>active_months_lag12</td>\n",
       "      <td>Quantity of active months within last 12 months</td>\n",
       "    </tr>\n",
       "    <tr>\n",
       "      <th>20</th>\n",
       "      <td>category_4</td>\n",
       "      <td>anonymized category</td>\n",
       "    </tr>\n",
       "    <tr>\n",
       "      <th>21</th>\n",
       "      <td>city_id</td>\n",
       "      <td>City identifier (anonymized )</td>\n",
       "    </tr>\n",
       "    <tr>\n",
       "      <th>22</th>\n",
       "      <td>state_id</td>\n",
       "      <td>State identifier (anonymized )</td>\n",
       "    </tr>\n",
       "    <tr>\n",
       "      <th>23</th>\n",
       "      <td>category_2</td>\n",
       "      <td>anonymized category</td>\n",
       "    </tr>\n",
       "  </tbody>\n",
       "</table>\n",
       "</div>"
      ],
      "text/plain": [
       "                  merchants.csv  \\\n",
       "0                           NaN   \n",
       "1                       Columns   \n",
       "2                   merchant_id   \n",
       "3             merchant_group_id   \n",
       "4          merchant_category_id   \n",
       "5                  subsector_id   \n",
       "6                   numerical_1   \n",
       "7                   numerical_2   \n",
       "8                    category_1   \n",
       "9       most_recent_sales_range   \n",
       "10  most_recent_purchases_range   \n",
       "11               avg_sales_lag3   \n",
       "12           avg_purchases_lag3   \n",
       "13           active_months_lag3   \n",
       "14               avg_sales_lag6   \n",
       "15           avg_purchases_lag6   \n",
       "16           active_months_lag6   \n",
       "17              avg_sales_lag12   \n",
       "18          avg_purchases_lag12   \n",
       "19          active_months_lag12   \n",
       "20                   category_4   \n",
       "21                      city_id   \n",
       "22                     state_id   \n",
       "23                   category_2   \n",
       "\n",
       "                                           Unnamed: 1  \n",
       "0                                                 NaN  \n",
       "1                                         Description  \n",
       "2                          Unique merchant identifier  \n",
       "3                        Merchant group (anonymized )  \n",
       "4   Unique identifier for merchant category (anony...  \n",
       "5               Merchant category group (anonymized )  \n",
       "6                                  anonymized measure  \n",
       "7                                  anonymized measure  \n",
       "8                                 anonymized category  \n",
       "9   Range of revenue (monetary units) in last acti...  \n",
       "10  Range of quantity of transactions in last acti...  \n",
       "11  Monthly average of revenue in last 3 months di...  \n",
       "12  Monthly average of transactions in last 3 mont...  \n",
       "13     Quantity of active months within last 3 months  \n",
       "14  Monthly average of revenue in last 6 months di...  \n",
       "15  Monthly average of transactions in last 6 mont...  \n",
       "16     Quantity of active months within last 6 months  \n",
       "17  Monthly average of revenue in last 12 months d...  \n",
       "18  Monthly average of transactions in last 12 mon...  \n",
       "19    Quantity of active months within last 12 months  \n",
       "20                                anonymized category  \n",
       "21                      City identifier (anonymized )  \n",
       "22                     State identifier (anonymized )  \n",
       "23                                anonymized category  "
      ]
     },
     "execution_count": 23,
     "metadata": {},
     "output_type": "execute_result"
    }
   ],
   "source": [
    "data_dictionary_merchant.head(30)\n"
   ]
  },
  {
   "cell_type": "code",
   "execution_count": 24,
   "metadata": {},
   "outputs": [
    {
     "data": {
      "text/html": [
       "<div>\n",
       "<style scoped>\n",
       "    .dataframe tbody tr th:only-of-type {\n",
       "        vertical-align: middle;\n",
       "    }\n",
       "\n",
       "    .dataframe tbody tr th {\n",
       "        vertical-align: top;\n",
       "    }\n",
       "\n",
       "    .dataframe thead th {\n",
       "        text-align: right;\n",
       "    }\n",
       "</style>\n",
       "<table border=\"1\" class=\"dataframe\">\n",
       "  <thead>\n",
       "    <tr style=\"text-align: right;\">\n",
       "      <th></th>\n",
       "      <th>authorized_flag</th>\n",
       "      <th>card_id</th>\n",
       "      <th>city_id</th>\n",
       "      <th>category_1</th>\n",
       "      <th>installments</th>\n",
       "      <th>category_3</th>\n",
       "      <th>merchant_category_id</th>\n",
       "      <th>merchant_id</th>\n",
       "      <th>month_lag</th>\n",
       "      <th>purchase_amount</th>\n",
       "      <th>purchase_date</th>\n",
       "      <th>category_2</th>\n",
       "      <th>state_id</th>\n",
       "      <th>subsector_id</th>\n",
       "    </tr>\n",
       "  </thead>\n",
       "  <tbody>\n",
       "    <tr>\n",
       "      <th>0</th>\n",
       "      <td>Y</td>\n",
       "      <td>C_ID_415bb3a509</td>\n",
       "      <td>107</td>\n",
       "      <td>N</td>\n",
       "      <td>1</td>\n",
       "      <td>B</td>\n",
       "      <td>307</td>\n",
       "      <td>M_ID_b0c793002c</td>\n",
       "      <td>1</td>\n",
       "      <td>-0.557574</td>\n",
       "      <td>2018-03-11 14:57:36</td>\n",
       "      <td>1.0</td>\n",
       "      <td>9</td>\n",
       "      <td>19</td>\n",
       "    </tr>\n",
       "    <tr>\n",
       "      <th>1</th>\n",
       "      <td>Y</td>\n",
       "      <td>C_ID_415bb3a509</td>\n",
       "      <td>140</td>\n",
       "      <td>N</td>\n",
       "      <td>1</td>\n",
       "      <td>B</td>\n",
       "      <td>307</td>\n",
       "      <td>M_ID_88920c89e8</td>\n",
       "      <td>1</td>\n",
       "      <td>-0.569580</td>\n",
       "      <td>2018-03-19 18:53:37</td>\n",
       "      <td>1.0</td>\n",
       "      <td>9</td>\n",
       "      <td>19</td>\n",
       "    </tr>\n",
       "    <tr>\n",
       "      <th>2</th>\n",
       "      <td>Y</td>\n",
       "      <td>C_ID_415bb3a509</td>\n",
       "      <td>330</td>\n",
       "      <td>N</td>\n",
       "      <td>1</td>\n",
       "      <td>B</td>\n",
       "      <td>507</td>\n",
       "      <td>M_ID_ad5237ef6b</td>\n",
       "      <td>2</td>\n",
       "      <td>-0.551037</td>\n",
       "      <td>2018-04-26 14:08:44</td>\n",
       "      <td>1.0</td>\n",
       "      <td>9</td>\n",
       "      <td>14</td>\n",
       "    </tr>\n",
       "    <tr>\n",
       "      <th>3</th>\n",
       "      <td>Y</td>\n",
       "      <td>C_ID_415bb3a509</td>\n",
       "      <td>-1</td>\n",
       "      <td>Y</td>\n",
       "      <td>1</td>\n",
       "      <td>B</td>\n",
       "      <td>661</td>\n",
       "      <td>M_ID_9e84cda3b1</td>\n",
       "      <td>1</td>\n",
       "      <td>-0.671925</td>\n",
       "      <td>2018-03-07 09:43:21</td>\n",
       "      <td>NaN</td>\n",
       "      <td>-1</td>\n",
       "      <td>8</td>\n",
       "    </tr>\n",
       "    <tr>\n",
       "      <th>4</th>\n",
       "      <td>Y</td>\n",
       "      <td>C_ID_ef55cf8d4b</td>\n",
       "      <td>-1</td>\n",
       "      <td>Y</td>\n",
       "      <td>1</td>\n",
       "      <td>B</td>\n",
       "      <td>166</td>\n",
       "      <td>M_ID_3c86fa3831</td>\n",
       "      <td>1</td>\n",
       "      <td>-0.659904</td>\n",
       "      <td>2018-03-22 21:07:53</td>\n",
       "      <td>NaN</td>\n",
       "      <td>-1</td>\n",
       "      <td>29</td>\n",
       "    </tr>\n",
       "    <tr>\n",
       "      <th>5</th>\n",
       "      <td>Y</td>\n",
       "      <td>C_ID_ef55cf8d4b</td>\n",
       "      <td>231</td>\n",
       "      <td>N</td>\n",
       "      <td>1</td>\n",
       "      <td>B</td>\n",
       "      <td>367</td>\n",
       "      <td>M_ID_8874615e00</td>\n",
       "      <td>2</td>\n",
       "      <td>-0.633007</td>\n",
       "      <td>2018-04-02 12:53:28</td>\n",
       "      <td>1.0</td>\n",
       "      <td>9</td>\n",
       "      <td>16</td>\n",
       "    </tr>\n",
       "    <tr>\n",
       "      <th>6</th>\n",
       "      <td>Y</td>\n",
       "      <td>C_ID_ef55cf8d4b</td>\n",
       "      <td>69</td>\n",
       "      <td>N</td>\n",
       "      <td>1</td>\n",
       "      <td>B</td>\n",
       "      <td>333</td>\n",
       "      <td>M_ID_6d061b5ddc</td>\n",
       "      <td>1</td>\n",
       "      <td>5.263697</td>\n",
       "      <td>2018-03-28 19:50:19</td>\n",
       "      <td>1.0</td>\n",
       "      <td>9</td>\n",
       "      <td>10</td>\n",
       "    </tr>\n",
       "    <tr>\n",
       "      <th>7</th>\n",
       "      <td>Y</td>\n",
       "      <td>C_ID_ef55cf8d4b</td>\n",
       "      <td>231</td>\n",
       "      <td>N</td>\n",
       "      <td>1</td>\n",
       "      <td>B</td>\n",
       "      <td>307</td>\n",
       "      <td>M_ID_df1e022f41</td>\n",
       "      <td>2</td>\n",
       "      <td>-0.553787</td>\n",
       "      <td>2018-04-05 08:06:52</td>\n",
       "      <td>1.0</td>\n",
       "      <td>9</td>\n",
       "      <td>19</td>\n",
       "    </tr>\n",
       "    <tr>\n",
       "      <th>8</th>\n",
       "      <td>Y</td>\n",
       "      <td>C_ID_ef55cf8d4b</td>\n",
       "      <td>69</td>\n",
       "      <td>N</td>\n",
       "      <td>1</td>\n",
       "      <td>B</td>\n",
       "      <td>278</td>\n",
       "      <td>M_ID_d15eae0468</td>\n",
       "      <td>2</td>\n",
       "      <td>-0.596643</td>\n",
       "      <td>2018-04-07 18:37:40</td>\n",
       "      <td>1.0</td>\n",
       "      <td>9</td>\n",
       "      <td>37</td>\n",
       "    </tr>\n",
       "    <tr>\n",
       "      <th>9</th>\n",
       "      <td>Y</td>\n",
       "      <td>C_ID_ef55cf8d4b</td>\n",
       "      <td>69</td>\n",
       "      <td>N</td>\n",
       "      <td>1</td>\n",
       "      <td>B</td>\n",
       "      <td>437</td>\n",
       "      <td>M_ID_5f9bffd028</td>\n",
       "      <td>1</td>\n",
       "      <td>-0.607191</td>\n",
       "      <td>2018-03-17 18:10:41</td>\n",
       "      <td>1.0</td>\n",
       "      <td>9</td>\n",
       "      <td>15</td>\n",
       "    </tr>\n",
       "  </tbody>\n",
       "</table>\n",
       "</div>"
      ],
      "text/plain": [
       "  authorized_flag          card_id  city_id category_1  installments  \\\n",
       "0               Y  C_ID_415bb3a509      107          N             1   \n",
       "1               Y  C_ID_415bb3a509      140          N             1   \n",
       "2               Y  C_ID_415bb3a509      330          N             1   \n",
       "3               Y  C_ID_415bb3a509       -1          Y             1   \n",
       "4               Y  C_ID_ef55cf8d4b       -1          Y             1   \n",
       "5               Y  C_ID_ef55cf8d4b      231          N             1   \n",
       "6               Y  C_ID_ef55cf8d4b       69          N             1   \n",
       "7               Y  C_ID_ef55cf8d4b      231          N             1   \n",
       "8               Y  C_ID_ef55cf8d4b       69          N             1   \n",
       "9               Y  C_ID_ef55cf8d4b       69          N             1   \n",
       "\n",
       "  category_3  merchant_category_id      merchant_id  month_lag  \\\n",
       "0          B                   307  M_ID_b0c793002c          1   \n",
       "1          B                   307  M_ID_88920c89e8          1   \n",
       "2          B                   507  M_ID_ad5237ef6b          2   \n",
       "3          B                   661  M_ID_9e84cda3b1          1   \n",
       "4          B                   166  M_ID_3c86fa3831          1   \n",
       "5          B                   367  M_ID_8874615e00          2   \n",
       "6          B                   333  M_ID_6d061b5ddc          1   \n",
       "7          B                   307  M_ID_df1e022f41          2   \n",
       "8          B                   278  M_ID_d15eae0468          2   \n",
       "9          B                   437  M_ID_5f9bffd028          1   \n",
       "\n",
       "   purchase_amount        purchase_date  category_2  state_id  subsector_id  \n",
       "0        -0.557574  2018-03-11 14:57:36         1.0         9            19  \n",
       "1        -0.569580  2018-03-19 18:53:37         1.0         9            19  \n",
       "2        -0.551037  2018-04-26 14:08:44         1.0         9            14  \n",
       "3        -0.671925  2018-03-07 09:43:21         NaN        -1             8  \n",
       "4        -0.659904  2018-03-22 21:07:53         NaN        -1            29  \n",
       "5        -0.633007  2018-04-02 12:53:28         1.0         9            16  \n",
       "6         5.263697  2018-03-28 19:50:19         1.0         9            10  \n",
       "7        -0.553787  2018-04-05 08:06:52         1.0         9            19  \n",
       "8        -0.596643  2018-04-07 18:37:40         1.0         9            37  \n",
       "9        -0.607191  2018-03-17 18:10:41         1.0         9            15  "
      ]
     },
     "execution_count": 24,
     "metadata": {},
     "output_type": "execute_result"
    }
   ],
   "source": [
    "main_new_merchant_transactions.head(10)"
   ]
  },
  {
   "cell_type": "markdown",
   "metadata": {},
   "source": [
    "#### Data Cleaning \n",
    "we have zero NA in every column which is a good news. now to check Zeros"
   ]
  },
  {
   "cell_type": "code",
   "execution_count": 25,
   "metadata": {},
   "outputs": [],
   "source": [
    "def check_missing_data(df):\n",
    "    flag=df.isna().sum().any()\n",
    "    if flag==True:\n",
    "        total = df.isnull().sum()\n",
    "        percent = (df.isnull().sum())/(df.isnull().count()*100)\n",
    "        output = pd.concat([total, percent], axis=1, keys=['Total', 'Percent'])\n",
    "        data_type = []\n",
    "        for col in df.columns:\n",
    "            dtype = str(df[col].dtype)\n",
    "            data_type.append(dtype)\n",
    "        output['Types'] = data_type\n",
    "        return(np.transpose(output))\n",
    "    else:\n",
    "        return(False)"
   ]
  },
  {
   "cell_type": "code",
   "execution_count": 26,
   "metadata": {},
   "outputs": [
    {
     "name": "stdout",
     "output_type": "stream",
     "text": [
      "for train : False\n",
      "for test:         first_active_month card_id feature_1 feature_2 feature_3\n",
      "Total                    1       0         0         0         0\n",
      "Percent        8.08911e-08       0         0         0         0\n",
      "Types       datetime64[ns]  object     int64     int64     int64\n"
     ]
    }
   ],
   "source": [
    "print ('for train :',check_missing_data(main_train))\n",
    "print ('for test:',check_missing_data(main_test))"
   ]
  },
  {
   "cell_type": "markdown",
   "metadata": {},
   "source": [
    "Note: But if we had , we can just use dropna()(be careful sometimes you should not do this!)"
   ]
  },
  {
   "cell_type": "code",
   "execution_count": 27,
   "metadata": {},
   "outputs": [
    {
     "name": "stdout",
     "output_type": "stream",
     "text": [
      "Before Dropping (201917, 6)\n",
      "After Dropping (201917, 6)\n"
     ]
    }
   ],
   "source": [
    "#remove rows that have NA's\n",
    "print(\"Before Dropping\",main_train.shape)\n",
    "main_train= main_train.dropna()\n",
    "print(\"After Dropping\", main_train.shape)"
   ]
  },
  {
   "cell_type": "markdown",
   "metadata": {},
   "source": [
    "We will get a quick idea of how many instances (rows) and how many attributes (columns) the data contains with the shape property.\n",
    "\n",
    "To print dataset columns, we can use columns atribute."
   ]
  },
  {
   "cell_type": "code",
   "execution_count": 28,
   "metadata": {},
   "outputs": [
    {
     "data": {
      "text/plain": [
       "Index(['first_active_month', 'card_id', 'feature_1', 'feature_2', 'feature_3',\n",
       "       'target'],\n",
       "      dtype='object')"
      ]
     },
     "execution_count": 28,
     "metadata": {},
     "output_type": "execute_result"
    }
   ],
   "source": [
    "main_train.columns"
   ]
  },
  {
   "cell_type": "markdown",
   "metadata": {},
   "source": [
    "## Data Visualization "
   ]
  },
  {
   "cell_type": "markdown",
   "metadata": {},
   "source": [
    "### Histogram \n",
    "Most of the targets almost have the value between +8 or -8. Checking through a plot for some abnormal value"
   ]
  },
  {
   "cell_type": "code",
   "execution_count": 29,
   "metadata": {},
   "outputs": [
    {
     "data": {
      "image/png": "[encoded data removed]",
      "text/plain": [
       "<Figure size 432x288 with 1 Axes>"
      ]
     },
     "metadata": {
      "needs_background": "light"
     },
     "output_type": "display_data"
    }
   ],
   "source": [
    "main_train[\"target\"].hist();"
   ]
  },
  {
   "cell_type": "markdown",
   "metadata": {},
   "source": [
    "as we can see have some value at -30 for which we need to be careful about "
   ]
  },
  {
   "cell_type": "code",
   "execution_count": 30,
   "metadata": {},
   "outputs": [
    {
     "data": {
      "text/plain": [
       "first_active_month    2207\n",
       "card_id               2207\n",
       "feature_1             2207\n",
       "feature_2             2207\n",
       "feature_3             2207\n",
       "target                2207\n",
       "dtype: int64"
      ]
     },
     "execution_count": 30,
     "metadata": {},
     "output_type": "execute_result"
    }
   ],
   "source": [
    "main_train[main_train[\"target\"]<-29].count()"
   ]
  },
  {
   "cell_type": "code",
   "execution_count": 31,
   "metadata": {},
   "outputs": [
    {
     "data": {
      "text/plain": [
       "array([[<AxesSubplot:title={'center':'feature_1'}>,\n",
       "        <AxesSubplot:title={'center':'feature_2'}>],\n",
       "       [<AxesSubplot:title={'center':'feature_3'}>,\n",
       "        <AxesSubplot:title={'center':'target'}>]], dtype=object)"
      ]
     },
     "execution_count": 31,
     "metadata": {},
     "output_type": "execute_result"
    },
    {
     "data": {
      "image/png": "[encoded data removed]",
      "text/plain": [
       "<Figure size 1080x1440 with 4 Axes>"
      ]
     },
     "metadata": {
      "needs_background": "light"
     },
     "output_type": "display_data"
    }
   ],
   "source": [
    "main_train.hist(figsize=(15,20))"
   ]
  },
  {
   "cell_type": "code",
   "execution_count": 35,
   "metadata": {},
   "outputs": [
    {
     "data": {
      "image/png": "[encoded data removed]",
      "text/plain": [
       "<Figure size 1440x720 with 2 Axes>"
      ]
     },
     "metadata": {
      "needs_background": "light"
     },
     "output_type": "display_data"
    }
   ],
   "source": [
    "f,ax=plt.subplots(1,2,figsize=(20,10))\n",
    "main_train[main_train[\"feature_3\"]==0].target.plot.hist(ax=ax[0],bins=20,edgecolor=\"black\", color=\"red\")\n",
    "ax[0].set_title(\"feature_3=0\")\n",
    "x1=list(range(0,85,5))\n",
    "ax[0].set_xticks(x1)\n",
    "main_train[main_train[\"feature_3\"]==1].target.plot.hist(ax=ax[1], color=\"green\",bins=20,edgecolor=\"black\")\n",
    "ax[1].set_title(\"feature_3=1\")\n",
    "x2=list(range(0,85,5))\n",
    "ax[1].set_xticks(x2)\n",
    "plt.show()"
   ]
  },
  {
   "cell_type": "code",
   "execution_count": 36,
   "metadata": {},
   "outputs": [
    {
     "data": {
      "image/png": "[encoded data removed]",
      "text/plain": [
       "<Figure size 1296x576 with 2 Axes>"
      ]
     },
     "metadata": {
      "needs_background": "light"
     },
     "output_type": "display_data"
    }
   ],
   "source": [
    "f,ax=plt.subplots(1,2,figsize=(18,8))\n",
    "main_train[\"feature_3\"].value_counts().plot.pie(explode=[0,0.1],autopct=\"%1.1f%%\",ax=ax[0],shadow=True)\n",
    "ax[0].set_title(\"feature_3\")\n",
    "ax[0].set_ylabel('')\n",
    "sns.countplot(\"feature_3\",data=main_train,ax=ax[1])\n",
    "ax[1].set_title('feature_3')\n",
    "plt.show()"
   ]
  },
  {
   "cell_type": "code",
   "execution_count": 39,
   "metadata": {},
   "outputs": [
    {
     "data": {
      "image/png": "[encoded data removed]",
      "text/plain": [
       "<Figure size 1296x576 with 2 Axes>"
      ]
     },
     "metadata": {
      "needs_background": "light"
     },
     "output_type": "display_data"
    }
   ],
   "source": [
    "f,ax=plt.subplots(1,2,figsize=(18,8))\n",
    "main_train[[\"feature_3\",\"feature_2\"]].groupby([\"feature_3\"]).mean().plot.bar(ax=ax[0])\n",
    "ax[0].set_title(\"Survived vs feature_2\")\n",
    "sns.countplot(\"feature_3\",hue=\"feature_2\",data=main_train,ax=ax[1])\n",
    "ax[1].set_title(\"feature_3: feature\")\n",
    "plt.show()"
   ]
  },
  {
   "cell_type": "code",
   "execution_count": 53,
   "metadata": {},
   "outputs": [
    {
     "data": {
      "text/plain": [
       "<AxesSubplot:xlabel='target', ylabel='Density'>"
      ]
     },
     "execution_count": 53,
     "metadata": {},
     "output_type": "execute_result"
    },
    {
     "data": {
      "image/png": "[encoded data removed]",
      "text/plain": [
       "<Figure size 432x288 with 1 Axes>"
      ]
     },
     "metadata": {},
     "output_type": "display_data"
    }
   ],
   "source": [
    "sns.distplot(main_train['target'])\n"
   ]
  },
  {
   "cell_type": "code",
   "execution_count": 54,
   "metadata": {},
   "outputs": [
    {
     "data": {
      "text/plain": [
       "<AxesSubplot:xlabel='feature_1', ylabel='target'>"
      ]
     },
     "execution_count": 54,
     "metadata": {},
     "output_type": "execute_result"
    },
    {
     "data": {
      "image/png": "[encoded data removed]",
      "text/plain": [
       "<Figure size 432x288 with 1 Axes>"
      ]
     },
     "metadata": {},
     "output_type": "display_data"
    }
   ],
   "source": [
    "sns.violinplot(data=main_train,x=\"feature_1\",y=\"target\")"
   ]
  },
  {
   "cell_type": "markdown",
   "metadata": {},
   "source": [
    "###  Scatter plot"
   ]
  },
  {
   "cell_type": "code",
   "execution_count": 58,
   "metadata": {},
   "outputs": [
    {
     "data": {
      "image/png": "[encoded data removed]",
      "text/plain": [
       "<Figure size 576x432 with 1 Axes>"
      ]
     },
     "metadata": {},
     "output_type": "display_data"
    }
   ],
   "source": [
    "plt.figure(figsize=(8,6))\n",
    "plt.scatter(range(main_train.shape[0]), np.sort(main_train['target'].values),marker='o',c='green')\n",
    "plt.xlabel('index', fontsize=12)\n",
    "plt.ylabel('Loyalty Score', fontsize=12)\n",
    "plt.title('Explore: Target')\n",
    "plt.show();"
   ]
  },
  {
   "cell_type": "code",
   "execution_count": 59,
   "metadata": {},
   "outputs": [
    {
     "data": {
      "image/png": "[encoded data removed]",
      "text/plain": [
       "<Figure size 707.675x216 with 3 Axes>"
      ]
     },
     "metadata": {},
     "output_type": "display_data"
    }
   ],
   "source": [
    "g = sns.FacetGrid(main_train , hue=\"feature_3\",col=\"feature_2\", margin_titles=True,palette={1:\"blue\",0:\"red\"})\n",
    "g=g.map(plt.scatter,\"first_active_month\",\"target\",edgecolor=\"w\").add_legend();"
   ]
  },
  {
   "cell_type": "code",
   "execution_count": 60,
   "metadata": {},
   "outputs": [
    {
     "data": {
      "image/png": "[encoded data removed]",
      "text/plain": [
       "<Figure size 432x288 with 1 Axes>"
      ]
     },
     "metadata": {},
     "output_type": "display_data"
    }
   ],
   "source": [
    "sns.boxplot(x=\"feature_3\",y=\"feature_2\",data=main_test)\n",
    "plt.show()"
   ]
  },
  {
   "cell_type": "markdown",
   "metadata": {},
   "source": [
    "### Data Preprocessing \n",
    "We will perform some analysis using Pandas"
   ]
  },
  {
   "cell_type": "code",
   "execution_count": 61,
   "metadata": {},
   "outputs": [
    {
     "data": {
      "text/plain": [
       "first_active_month    117\n",
       "card_id               117\n",
       "feature_1             117\n",
       "feature_2             117\n",
       "feature_3             117\n",
       "target                117\n",
       "dtype: int64"
      ]
     },
     "execution_count": 61,
     "metadata": {},
     "output_type": "execute_result"
    }
   ],
   "source": [
    "main_train.where(main_train['target']==1).count()"
   ]
  },
  {
   "cell_type": "code",
   "execution_count": 62,
   "metadata": {},
   "outputs": [
    {
     "data": {
      "text/html": [
       "<div>\n",
       "<style scoped>\n",
       "    .dataframe tbody tr th:only-of-type {\n",
       "        vertical-align: middle;\n",
       "    }\n",
       "\n",
       "    .dataframe tbody tr th {\n",
       "        vertical-align: top;\n",
       "    }\n",
       "\n",
       "    .dataframe thead th {\n",
       "        text-align: right;\n",
       "    }\n",
       "</style>\n",
       "<table border=\"1\" class=\"dataframe\">\n",
       "  <thead>\n",
       "    <tr style=\"text-align: right;\">\n",
       "      <th></th>\n",
       "      <th>first_active_month</th>\n",
       "      <th>card_id</th>\n",
       "      <th>feature_1</th>\n",
       "      <th>feature_2</th>\n",
       "      <th>feature_3</th>\n",
       "      <th>target</th>\n",
       "    </tr>\n",
       "  </thead>\n",
       "  <tbody>\n",
       "    <tr>\n",
       "      <th>64</th>\n",
       "      <td>2017-09-01</td>\n",
       "      <td>C_ID_8186f3fcc1</td>\n",
       "      <td>3</td>\n",
       "      <td>1</td>\n",
       "      <td>1</td>\n",
       "      <td>-33.219281</td>\n",
       "    </tr>\n",
       "    <tr>\n",
       "      <th>92</th>\n",
       "      <td>2015-05-01</td>\n",
       "      <td>C_ID_b9379a30ea</td>\n",
       "      <td>3</td>\n",
       "      <td>3</td>\n",
       "      <td>1</td>\n",
       "      <td>-33.219281</td>\n",
       "    </tr>\n",
       "    <tr>\n",
       "      <th>125</th>\n",
       "      <td>2015-10-01</td>\n",
       "      <td>C_ID_e9120f535c</td>\n",
       "      <td>3</td>\n",
       "      <td>3</td>\n",
       "      <td>1</td>\n",
       "      <td>-33.219281</td>\n",
       "    </tr>\n",
       "    <tr>\n",
       "      <th>151</th>\n",
       "      <td>2017-03-01</td>\n",
       "      <td>C_ID_65715cb80d</td>\n",
       "      <td>4</td>\n",
       "      <td>2</td>\n",
       "      <td>0</td>\n",
       "      <td>-33.219281</td>\n",
       "    </tr>\n",
       "    <tr>\n",
       "      <th>225</th>\n",
       "      <td>2017-01-01</td>\n",
       "      <td>C_ID_ae77d244b6</td>\n",
       "      <td>2</td>\n",
       "      <td>1</td>\n",
       "      <td>0</td>\n",
       "      <td>-33.219281</td>\n",
       "    </tr>\n",
       "  </tbody>\n",
       "</table>\n",
       "</div>"
      ],
      "text/plain": [
       "    first_active_month          card_id  feature_1  feature_2  feature_3  \\\n",
       "64          2017-09-01  C_ID_8186f3fcc1          3          1          1   \n",
       "92          2015-05-01  C_ID_b9379a30ea          3          3          1   \n",
       "125         2015-10-01  C_ID_e9120f535c          3          3          1   \n",
       "151         2017-03-01  C_ID_65715cb80d          4          2          0   \n",
       "225         2017-01-01  C_ID_ae77d244b6          2          1          0   \n",
       "\n",
       "        target  \n",
       "64  -33.219281  \n",
       "92  -33.219281  \n",
       "125 -33.219281  \n",
       "151 -33.219281  \n",
       "225 -33.219281  "
      ]
     },
     "execution_count": 62,
     "metadata": {},
     "output_type": "execute_result"
    }
   ],
   "source": [
    "main_train[main_train[\"target\"]<-32].head(5)"
   ]
  },
  {
   "cell_type": "code",
   "execution_count": 63,
   "metadata": {},
   "outputs": [
    {
     "data": {
      "text/html": [
       "<div>\n",
       "<style scoped>\n",
       "    .dataframe tbody tr th:only-of-type {\n",
       "        vertical-align: middle;\n",
       "    }\n",
       "\n",
       "    .dataframe tbody tr th {\n",
       "        vertical-align: top;\n",
       "    }\n",
       "\n",
       "    .dataframe thead th {\n",
       "        text-align: right;\n",
       "    }\n",
       "</style>\n",
       "<table border=\"1\" class=\"dataframe\">\n",
       "  <thead>\n",
       "    <tr style=\"text-align: right;\">\n",
       "      <th></th>\n",
       "      <th>first_active_month</th>\n",
       "      <th>card_id</th>\n",
       "      <th>feature_1</th>\n",
       "      <th>feature_2</th>\n",
       "      <th>feature_3</th>\n",
       "      <th>target</th>\n",
       "    </tr>\n",
       "  </thead>\n",
       "  <tbody>\n",
       "    <tr>\n",
       "      <th>297</th>\n",
       "      <td>2017-11-01</td>\n",
       "      <td>C_ID_d25746fced</td>\n",
       "      <td>2</td>\n",
       "      <td>1</td>\n",
       "      <td>0</td>\n",
       "      <td>1.0</td>\n",
       "    </tr>\n",
       "    <tr>\n",
       "      <th>904</th>\n",
       "      <td>2015-08-01</td>\n",
       "      <td>C_ID_76e4bf4bb7</td>\n",
       "      <td>1</td>\n",
       "      <td>2</td>\n",
       "      <td>0</td>\n",
       "      <td>1.0</td>\n",
       "    </tr>\n",
       "    <tr>\n",
       "      <th>910</th>\n",
       "      <td>2017-03-01</td>\n",
       "      <td>C_ID_e88589f8a3</td>\n",
       "      <td>2</td>\n",
       "      <td>2</td>\n",
       "      <td>0</td>\n",
       "      <td>1.0</td>\n",
       "    </tr>\n",
       "    <tr>\n",
       "      <th>2213</th>\n",
       "      <td>2017-06-01</td>\n",
       "      <td>C_ID_8369e9930c</td>\n",
       "      <td>2</td>\n",
       "      <td>2</td>\n",
       "      <td>0</td>\n",
       "      <td>1.0</td>\n",
       "    </tr>\n",
       "    <tr>\n",
       "      <th>5479</th>\n",
       "      <td>2015-08-01</td>\n",
       "      <td>C_ID_ffafee7ba5</td>\n",
       "      <td>4</td>\n",
       "      <td>2</td>\n",
       "      <td>0</td>\n",
       "      <td>1.0</td>\n",
       "    </tr>\n",
       "  </tbody>\n",
       "</table>\n",
       "</div>"
      ],
      "text/plain": [
       "     first_active_month          card_id  feature_1  feature_2  feature_3  \\\n",
       "297          2017-11-01  C_ID_d25746fced          2          1          0   \n",
       "904          2015-08-01  C_ID_76e4bf4bb7          1          2          0   \n",
       "910          2017-03-01  C_ID_e88589f8a3          2          2          0   \n",
       "2213         2017-06-01  C_ID_8369e9930c          2          2          0   \n",
       "5479         2015-08-01  C_ID_ffafee7ba5          4          2          0   \n",
       "\n",
       "      target  \n",
       "297      1.0  \n",
       "904      1.0  \n",
       "910      1.0  \n",
       "2213     1.0  \n",
       "5479     1.0  "
      ]
     },
     "execution_count": 63,
     "metadata": {},
     "output_type": "execute_result"
    }
   ],
   "source": [
    "main_train[main_train[\"target\"]==1].head(5)"
   ]
  },
  {
   "cell_type": "code",
   "execution_count": 64,
   "metadata": {},
   "outputs": [
    {
     "data": {
      "text/plain": [
       "array([5, 4, 2, 1, 3], dtype=int64)"
      ]
     },
     "execution_count": 64,
     "metadata": {},
     "output_type": "execute_result"
    }
   ],
   "source": [
    "main_train.feature_1.unique()"
   ]
  },
  {
   "cell_type": "code",
   "execution_count": 65,
   "metadata": {},
   "outputs": [
    {
     "data": {
      "text/plain": [
       "array([2, 1, 3], dtype=int64)"
      ]
     },
     "execution_count": 65,
     "metadata": {},
     "output_type": "execute_result"
    }
   ],
   "source": [
    "main_train.feature_2.unique()"
   ]
  },
  {
   "cell_type": "code",
   "execution_count": 66,
   "metadata": {},
   "outputs": [
    {
     "data": {
      "text/plain": [
       "array([1, 0], dtype=int64)"
      ]
     },
     "execution_count": 66,
     "metadata": {},
     "output_type": "execute_result"
    }
   ],
   "source": [
    "main_train.feature_3.unique()"
   ]
  },
  {
   "cell_type": "code",
   "execution_count": 67,
   "metadata": {},
   "outputs": [
    {
     "data": {
      "text/plain": [
       "array(['2017-06-01T00:00:00.000000000', '2017-01-01T00:00:00.000000000',\n",
       "       '2016-08-01T00:00:00.000000000', '2017-09-01T00:00:00.000000000',\n",
       "       '2017-11-01T00:00:00.000000000', '2016-09-01T00:00:00.000000000',\n",
       "       '2016-12-01T00:00:00.000000000', '2017-08-01T00:00:00.000000000',\n",
       "       '2016-10-01T00:00:00.000000000', '2016-03-01T00:00:00.000000000',\n",
       "       '2017-04-01T00:00:00.000000000', '2017-02-01T00:00:00.000000000',\n",
       "       '2016-07-01T00:00:00.000000000', '2016-06-01T00:00:00.000000000',\n",
       "       '2017-10-01T00:00:00.000000000', '2015-10-01T00:00:00.000000000',\n",
       "       '2016-04-01T00:00:00.000000000', '2017-07-01T00:00:00.000000000',\n",
       "       '2016-01-01T00:00:00.000000000', '2016-11-01T00:00:00.000000000',\n",
       "       '2015-11-01T00:00:00.000000000', '2013-05-01T00:00:00.000000000',\n",
       "       '2016-02-01T00:00:00.000000000', '2016-05-01T00:00:00.000000000',\n",
       "       '2014-02-01T00:00:00.000000000', '2017-05-01T00:00:00.000000000',\n",
       "       '2017-12-01T00:00:00.000000000', '2017-03-01T00:00:00.000000000',\n",
       "       '2015-08-01T00:00:00.000000000', '2015-05-01T00:00:00.000000000',\n",
       "       '2015-01-01T00:00:00.000000000', '2014-08-01T00:00:00.000000000',\n",
       "       '2015-02-01T00:00:00.000000000', '2014-06-01T00:00:00.000000000',\n",
       "       '2014-07-01T00:00:00.000000000', '2014-03-01T00:00:00.000000000',\n",
       "       '2015-06-01T00:00:00.000000000', '2014-05-01T00:00:00.000000000',\n",
       "       '2015-12-01T00:00:00.000000000', '2015-07-01T00:00:00.000000000',\n",
       "       '2015-03-01T00:00:00.000000000', '2015-09-01T00:00:00.000000000',\n",
       "       '2014-01-01T00:00:00.000000000', '2014-04-01T00:00:00.000000000',\n",
       "       '2014-10-01T00:00:00.000000000', '2014-11-01T00:00:00.000000000',\n",
       "       '2014-09-01T00:00:00.000000000', '2013-12-01T00:00:00.000000000',\n",
       "       '2014-12-01T00:00:00.000000000', '2013-06-01T00:00:00.000000000',\n",
       "       '2015-04-01T00:00:00.000000000', '2013-10-01T00:00:00.000000000',\n",
       "       '2013-08-01T00:00:00.000000000', '2013-07-01T00:00:00.000000000',\n",
       "       '2012-05-01T00:00:00.000000000', '2012-08-01T00:00:00.000000000',\n",
       "       '2012-10-01T00:00:00.000000000', '2012-06-01T00:00:00.000000000',\n",
       "       '2012-09-01T00:00:00.000000000', '2012-04-01T00:00:00.000000000',\n",
       "       '2012-12-01T00:00:00.000000000', '2013-11-01T00:00:00.000000000',\n",
       "       '2013-09-01T00:00:00.000000000', '2013-04-01T00:00:00.000000000',\n",
       "       '2012-11-01T00:00:00.000000000', '2013-01-01T00:00:00.000000000',\n",
       "       '2011-11-01T00:00:00.000000000', '2013-02-01T00:00:00.000000000',\n",
       "       '2012-03-01T00:00:00.000000000', '2012-02-01T00:00:00.000000000',\n",
       "       '2013-03-01T00:00:00.000000000', '2018-01-01T00:00:00.000000000',\n",
       "       '2012-07-01T00:00:00.000000000', '2018-02-01T00:00:00.000000000',\n",
       "       '2011-12-01T00:00:00.000000000'], dtype='datetime64[ns]')"
      ]
     },
     "execution_count": 67,
     "metadata": {},
     "output_type": "execute_result"
    }
   ],
   "source": [
    "main_train.first_active_month.unique()"
   ]
  },
  {
   "cell_type": "code",
   "execution_count": 68,
   "metadata": {},
   "outputs": [
    {
     "data": {
      "text/plain": [
       "array(['C_ID_92a2005557', 'C_ID_3d0044924f', 'C_ID_d639edf6cd', ...,\n",
       "       'C_ID_7666735b3d', 'C_ID_73f5a0efd0', 'C_ID_92c9984c58'],\n",
       "      dtype=object)"
      ]
     },
     "execution_count": 68,
     "metadata": {},
     "output_type": "execute_result"
    }
   ],
   "source": [
    "main_train.card_id.unique()"
   ]
  },
  {
   "cell_type": "code",
   "execution_count": 69,
   "metadata": {},
   "outputs": [
    {
     "data": {
      "text/plain": [
       "array([-0.8202826 ,  0.39291325,  0.68805599, ...,  0.09349415,\n",
       "       -4.67658938, -1.85941301])"
      ]
     },
     "execution_count": 69,
     "metadata": {},
     "output_type": "execute_result"
    }
   ],
   "source": [
    "main_train.target.unique()"
   ]
  },
  {
   "cell_type": "markdown",
   "metadata": {},
   "source": [
    "### Some New Feature"
   ]
  },
  {
   "cell_type": "code",
   "execution_count": 70,
   "metadata": {},
   "outputs": [],
   "source": [
    "df_train=main_train\n",
    "df_test=main_test"
   ]
  },
  {
   "cell_type": "code",
   "execution_count": 72,
   "metadata": {},
   "outputs": [],
   "source": [
    "df_train[\"year\"]=main_train[\"first_active_month\"].dt.year\n",
    "df_test[\"year\"]= main_test[\"first_active_month\"].dt.year"
   ]
  },
  {
   "cell_type": "code",
   "execution_count": 74,
   "metadata": {},
   "outputs": [],
   "source": [
    "df_train[\"month\"]=main_train[\"first_active_month\"].dt.month\n",
    "df_test[\"month\"] = main_test[\"first_active_month\"].dt.month"
   ]
  },
  {
   "cell_type": "markdown",
   "metadata": {},
   "source": [
    "### Feature Encoding "
   ]
  },
  {
   "cell_type": "code",
   "execution_count": 76,
   "metadata": {},
   "outputs": [],
   "source": [
    "x_train = df_train.drop([\"target\",\"card_id\",\"first_active_month\"],axis=1)\n",
    "x_test = df_test.drop([\"card_id\",\"first_active_month\"],axis=1)"
   ]
  },
  {
   "cell_type": "code",
   "execution_count": 78,
   "metadata": {},
   "outputs": [],
   "source": [
    "y_train = df_train[\"target\"]\n",
    "df_train = df_train.sample(frac=1,random_state=7)"
   ]
  },
  {
   "cell_type": "code",
   "execution_count": 79,
   "metadata": {},
   "outputs": [],
   "source": [
    "Trn_x,val_x,Trn_y,val_y = train_test_split(x_train,y_train,test_size=0.1,random_state=7)\n",
    "trn_x,test_x,trn_y,test_y = train_test_split(Trn_x, Trn_y,test_size=0.1,random_state=7)"
   ]
  },
  {
   "attachments": {
    "image.png": {
     "image/png": "[encoded data removed]"
    }
   },
   "cell_type": "markdown",
   "metadata": {},
   "source": [
    "\n",
    "7- Apply Learning\n",
    "How to understand what is the best way to solve our problem?!\n",
    "\n",
    "\n",
    "\n",
    "7-1 Evaluation\n",
    "Submissions are scored on the root mean squared error. RMSE(Root Mean Squared Error) is defined as:where y^ is the predicted loyalty score for each card_id, and y is the actual loyalty score assigned to a card_id.\n",
    "\n",
    "Note: You must answer the following question: How does your company expect to use and benefit from your model.\n",
    "![image.png](attachment:image.png)\n",
    "        "
   ]
  },
  {
   "cell_type": "code",
   "execution_count": 82,
   "metadata": {},
   "outputs": [],
   "source": [
    "## rmse\n",
    "def rmse(y_true,y_pred):\n",
    "    return np.sqrt(mean_squared_error(y_true,y_pred))"
   ]
  },
  {
   "cell_type": "code",
   "execution_count": 85,
   "metadata": {},
   "outputs": [],
   "source": [
    "# converting into xgb DMatrix\n",
    "Train = xgb.DMatrix(trn_x,label = trn_y)\n",
    "Validation = xgb.DMatrix(val_x, label = val_y)\n",
    "Test = xgb.DMatrix(test_x)"
   ]
  },
  {
   "cell_type": "code",
   "execution_count": 86,
   "metadata": {},
   "outputs": [],
   "source": [
    "params = {\"booster\":\"gbtree\",\"eta\":0.1,'min_split_loss':0,'max_depth':6,\n",
    "         'min_child_weight':1, 'max_delta_step':0,'subsample':1,'colsample_bytree':1,\n",
    "         'colsample_bylevel':1,'reg_lambda':1,'reg_alpha':0,\n",
    "         'grow_policy':'depthwise','max_leaves':0,'objective':'reg:linear','eval_metric':'rmse',\n",
    "         'seed':7}\n",
    "history ={}  # This will record rmse score of training and test set\n",
    "eval_list =[(Train,\"Training\"),(Validation,\"Validation\")]"
   ]
  },
  {
   "cell_type": "code",
   "execution_count": 91,
   "metadata": {},
   "outputs": [
    {
     "name": "stdout",
     "output_type": "stream",
     "text": [
      "[10:05:17] WARNING: c:\\ci\\xgboost-split_1619728435298\\work\\src\\objective\\regression_obj.cu:170: reg:linear is now deprecated in favor of reg:squarederror.\n",
      "[0]\tTraining-rmse:3.93312\tValidation-rmse:3.92998\n",
      "[1]\tTraining-rmse:3.91568\tValidation-rmse:3.91308\n",
      "[2]\tTraining-rmse:3.90149\tValidation-rmse:3.89946\n",
      "[3]\tTraining-rmse:3.88996\tValidation-rmse:3.88828\n",
      "[4]\tTraining-rmse:3.88055\tValidation-rmse:3.87928\n",
      "[5]\tTraining-rmse:3.87292\tValidation-rmse:3.87203\n",
      "[6]\tTraining-rmse:3.86667\tValidation-rmse:3.86618\n",
      "[7]\tTraining-rmse:3.86162\tValidation-rmse:3.86147\n",
      "[8]\tTraining-rmse:3.85751\tValidation-rmse:3.85764\n",
      "[9]\tTraining-rmse:3.85419\tValidation-rmse:3.85453\n",
      "[10]\tTraining-rmse:3.85143\tValidation-rmse:3.85211\n",
      "[11]\tTraining-rmse:3.84917\tValidation-rmse:3.85009\n",
      "[12]\tTraining-rmse:3.84733\tValidation-rmse:3.84852\n",
      "[13]\tTraining-rmse:3.84585\tValidation-rmse:3.84724\n",
      "[14]\tTraining-rmse:3.84457\tValidation-rmse:3.84634\n",
      "[15]\tTraining-rmse:3.84356\tValidation-rmse:3.84555\n",
      "[16]\tTraining-rmse:3.84268\tValidation-rmse:3.84498\n",
      "[17]\tTraining-rmse:3.84200\tValidation-rmse:3.84450\n",
      "[18]\tTraining-rmse:3.84145\tValidation-rmse:3.84409\n",
      "[19]\tTraining-rmse:3.84091\tValidation-rmse:3.84380\n",
      "[20]\tTraining-rmse:3.84044\tValidation-rmse:3.84372\n",
      "[21]\tTraining-rmse:3.84011\tValidation-rmse:3.84355\n",
      "[22]\tTraining-rmse:3.83980\tValidation-rmse:3.84347\n",
      "[23]\tTraining-rmse:3.83958\tValidation-rmse:3.84335\n",
      "[24]\tTraining-rmse:3.83931\tValidation-rmse:3.84334\n",
      "[25]\tTraining-rmse:3.83914\tValidation-rmse:3.84333\n",
      "[26]\tTraining-rmse:3.83894\tValidation-rmse:3.84339\n",
      "[27]\tTraining-rmse:3.83880\tValidation-rmse:3.84341\n",
      "[28]\tTraining-rmse:3.83865\tValidation-rmse:3.84339\n",
      "[29]\tTraining-rmse:3.83855\tValidation-rmse:3.84341\n",
      "[30]\tTraining-rmse:3.83844\tValidation-rmse:3.84349\n",
      "[31]\tTraining-rmse:3.83834\tValidation-rmse:3.84352\n",
      "[32]\tTraining-rmse:3.83826\tValidation-rmse:3.84354\n",
      "[33]\tTraining-rmse:3.83817\tValidation-rmse:3.84360\n",
      "[34]\tTraining-rmse:3.83811\tValidation-rmse:3.84363\n",
      "[35]\tTraining-rmse:3.83805\tValidation-rmse:3.84368\n",
      "[36]\tTraining-rmse:3.83791\tValidation-rmse:3.84385\n",
      "[37]\tTraining-rmse:3.83781\tValidation-rmse:3.84402\n",
      "[38]\tTraining-rmse:3.83774\tValidation-rmse:3.84405\n",
      "[39]\tTraining-rmse:3.83769\tValidation-rmse:3.84410\n",
      "[40]\tTraining-rmse:3.83763\tValidation-rmse:3.84415\n",
      "[41]\tTraining-rmse:3.83760\tValidation-rmse:3.84420\n",
      "[42]\tTraining-rmse:3.83756\tValidation-rmse:3.84427\n",
      "[43]\tTraining-rmse:3.83754\tValidation-rmse:3.84430\n",
      "[44]\tTraining-rmse:3.83749\tValidation-rmse:3.84434\n",
      "[45]\tTraining-rmse:3.83748\tValidation-rmse:3.84435\n",
      "[46]\tTraining-rmse:3.83744\tValidation-rmse:3.84440\n",
      "[47]\tTraining-rmse:3.83743\tValidation-rmse:3.84444\n",
      "[48]\tTraining-rmse:3.83741\tValidation-rmse:3.84447\n",
      "[49]\tTraining-rmse:3.83736\tValidation-rmse:3.84459\n",
      "[50]\tTraining-rmse:3.83736\tValidation-rmse:3.84460\n",
      "[51]\tTraining-rmse:3.83733\tValidation-rmse:3.84467\n",
      "[52]\tTraining-rmse:3.83730\tValidation-rmse:3.84471\n",
      "[53]\tTraining-rmse:3.83726\tValidation-rmse:3.84482\n",
      "[54]\tTraining-rmse:3.83720\tValidation-rmse:3.84498\n",
      "[55]\tTraining-rmse:3.83718\tValidation-rmse:3.84503\n",
      "[56]\tTraining-rmse:3.83716\tValidation-rmse:3.84508\n",
      "[57]\tTraining-rmse:3.83714\tValidation-rmse:3.84509\n",
      "[58]\tTraining-rmse:3.83710\tValidation-rmse:3.84512\n",
      "[59]\tTraining-rmse:3.83709\tValidation-rmse:3.84515\n",
      "[60]\tTraining-rmse:3.83708\tValidation-rmse:3.84516\n",
      "[61]\tTraining-rmse:3.83706\tValidation-rmse:3.84519\n",
      "[62]\tTraining-rmse:3.83700\tValidation-rmse:3.84509\n",
      "[63]\tTraining-rmse:3.83699\tValidation-rmse:3.84514\n",
      "[64]\tTraining-rmse:3.83697\tValidation-rmse:3.84518\n",
      "[65]\tTraining-rmse:3.83694\tValidation-rmse:3.84526\n"
     ]
    }
   ],
   "source": [
    "clf = xgb.train(params, Train, num_boost_round=119, evals=eval_list, obj=None, feval=None, maximize=False, \n",
    "          early_stopping_rounds=40, evals_result=history);"
   ]
  },
  {
   "cell_type": "code",
   "execution_count": 95,
   "metadata": {},
   "outputs": [],
   "source": [
    "prediction= clf.predict(xgb.DMatrix(x_test)) "
   ]
  },
  {
   "cell_type": "code",
   "execution_count": 96,
   "metadata": {},
   "outputs": [],
   "source": [
    "submission = pd.DataFrame({\"card_id\": main_test[\"card_id\"].values,\"target\":np.ravel(prediction)})"
   ]
  },
  {
   "cell_type": "markdown",
   "metadata": {},
   "source": [
    "### 8- Conclusion\n",
    "This kernel is not completed yet , I have tried to cover all the parts related to the process of Elo problem with a variety of Python packages and I know that there are still some issues then I hope to get your feedback to improve it."
   ]
  },
  {
   "cell_type": "code",
   "execution_count": null,
   "metadata": {},
   "outputs": [],
   "source": []
  }
 ],
 "metadata": {
  "kernelspec": {
   "display_name": "dl",
   "language": "python",
   "name": "dl"
  },
  "language_info": {
   "codemirror_mode": {
    "name": "ipython",
    "version": 3
   },
   "file_extension": ".py",
   "mimetype": "text/x-python",
   "name": "python",
   "nbconvert_exporter": "python",
   "pygments_lexer": "ipython3",
   "version": "3.6.10"
  }
 },
 "nbformat": 4,
 "nbformat_minor": 4
}
